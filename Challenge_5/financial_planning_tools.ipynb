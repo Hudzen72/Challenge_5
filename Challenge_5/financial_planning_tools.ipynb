{
 "cells": [
  {
   "cell_type": "markdown",
   "metadata": {},
   "source": [
    "# Financial Planning with APIs and Simulations\n",
    "\n",
    "In this Challenge, you’ll create two financial analysis tools by using a single Jupyter notebook:\n",
    "\n",
    "Part 1: A financial planner for emergencies. The members will be able to use this tool to visualize their current savings. The members can then determine if they have enough reserves for an emergency fund.\n",
    "\n",
    "Part 2: A financial planner for retirement. This tool will forecast the performance of their retirement portfolio in 30 years. To do this, the tool will make an Alpaca API call via the Alpaca SDK to get historical price data for use in Monte Carlo simulations.\n",
    "\n",
    "You’ll use the information from the Monte Carlo simulation to answer questions about the portfolio in your Jupyter notebook.\n",
    "\n"
   ]
  },
  {
   "cell_type": "code",
   "execution_count": 1,
   "metadata": {},
   "outputs": [],
   "source": [
    "# Import the required libraries and dependencies\n",
    "import os\n",
    "import requests\n",
    "import json\n",
    "import pandas as pd\n",
    "from dotenv import load_dotenv\n",
    "import alpaca_trade_api as tradeapi\n",
    "from MCForecastTools import MCSimulation\n",
    "\n",
    "%matplotlib inline"
   ]
  },
  {
   "cell_type": "code",
   "execution_count": 2,
   "metadata": {},
   "outputs": [
    {
     "name": "stdout",
     "output_type": "stream",
     "text": [
      "AK32EYIPWZOY16BZB0X4\n"
     ]
    }
   ],
   "source": [
    "# Load the environment variables from the .env file\n",
    "#by calling the load_dotenv function\n",
    "load_dotenv(\"./sample.env\")\n",
    "\n",
    "alpaca_api_key = os.getenv(\"ALPACA_API_KEY\")\n",
    "alpaca_secret_key = os.getenv(\"ALPACA_SECRET_KEY\")\n",
    "\n",
    "#config=dotenv_values(\"env\")#\n",
    "print(alpaca_api_key)"
   ]
  },
  {
   "cell_type": "markdown",
   "metadata": {},
   "source": [
    "## Part 1: Create a Financial Planner for Emergencies"
   ]
  },
  {
   "cell_type": "markdown",
   "metadata": {},
   "source": [
    "### Evaluate the Cryptocurrency Wallet by Using the Requests Library\n",
    "\n",
    "In this section, you’ll determine the current value of a member’s cryptocurrency wallet. You’ll collect the current prices for the Bitcoin and Ethereum cryptocurrencies by using the Python Requests library. For the prototype, you’ll assume that the member holds the 1.2 Bitcoins (BTC) and 5.3 Ethereum coins (ETH). To do all this, complete the following steps:\n",
    "\n",
    "1. Create a variable named `monthly_income`, and set its value to `12000`.\n",
    "\n",
    "2. Use the Requests library to get the current price (in US dollars) of Bitcoin (BTC) and Ethereum (ETH) by using the API endpoints that the starter code supplies.\n",
    "\n",
    "3. Navigate the JSON response object to access the current price of each coin, and store each in a variable.\n",
    "\n",
    "    > **Hint** Note the specific identifier for each cryptocurrency in the API JSON response. The Bitcoin identifier is `1`, and the Ethereum identifier is `1027`.\n",
    "\n",
    "4. Calculate the value, in US dollars, of the current amount of each cryptocurrency and of the entire cryptocurrency wallet.\n",
    "\n"
   ]
  },
  {
   "cell_type": "code",
   "execution_count": 3,
   "metadata": {},
   "outputs": [],
   "source": [
    "# The current number of coins for each cryptocurrency asset held in the portfolio.\n",
    "btc_coins = 1.2\n",
    "eth_coins = 5.3"
   ]
  },
  {
   "cell_type": "markdown",
   "metadata": {},
   "source": [
    "#### Step 1: Create a variable named `monthly_income`, and set its value to `12000`."
   ]
  },
  {
   "cell_type": "code",
   "execution_count": 4,
   "metadata": {},
   "outputs": [],
   "source": [
    "# The monthly amount for the member's household income\n",
    "# YOUR CODE HERE\n",
    "monthly_income=12000"
   ]
  },
  {
   "cell_type": "markdown",
   "metadata": {},
   "source": [
    "#### Review the endpoint URLs for the API calls to Free Crypto API in order to get the current pricing information for both BTC and ETH."
   ]
  },
  {
   "cell_type": "code",
   "execution_count": 5,
   "metadata": {},
   "outputs": [],
   "source": [
    "# The Free Crypto API Call endpoint URLs for the held cryptocurrency assets\n",
    "btc_url = \"https://api.alternative.me/v2/ticker/Bitcoin/?convert=USD\"\n",
    "eth_url = \"https://api.alternative.me/v2/ticker/Ethereum/?convert=USD\""
   ]
  },
  {
   "cell_type": "markdown",
   "metadata": {},
   "source": [
    "#### Step 2. Use the Requests library to get the current price (in US dollars) of Bitcoin (BTC) and Ethereum (ETH) by using the API endpoints that the starter code supplied."
   ]
  },
  {
   "cell_type": "code",
   "execution_count": 6,
   "metadata": {},
   "outputs": [
    {
     "name": "stdout",
     "output_type": "stream",
     "text": [
      "{\n",
      "    \"data\": {\n",
      "        \"1\": {\n",
      "            \"circulating_supply\": 18718893,\n",
      "            \"id\": 1,\n",
      "            \"last_updated\": 1622037786,\n",
      "            \"max_supply\": 21000000,\n",
      "            \"name\": \"Bitcoin\",\n",
      "            \"quotes\": {\n",
      "                \"USD\": {\n",
      "                    \"market_cap\": 731800316217,\n",
      "                    \"percent_change_1h\": -2.51900252519344,\n",
      "                    \"percent_change_24h\": 3.55480835361567,\n",
      "                    \"percent_change_7d\": -9.59051548491674,\n",
      "                    \"percentage_change_1h\": -2.51900252519344,\n",
      "                    \"percentage_change_24h\": 3.55480835361567,\n",
      "                    \"percentage_change_7d\": -9.59051548491674,\n",
      "                    \"price\": 38958.0,\n",
      "                    \"volume_24h\": 47127207628\n",
      "                }\n",
      "            },\n",
      "            \"rank\": 1,\n",
      "            \"symbol\": \"BTC\",\n",
      "            \"total_supply\": 18718893,\n",
      "            \"website_slug\": \"bitcoin\"\n",
      "        }\n",
      "    },\n",
      "    \"metadata\": {\n",
      "        \"error\": null,\n",
      "        \"num_cryptocurrencies\": 1299,\n",
      "        \"timestamp\": 1622037786\n",
      "    }\n",
      "}\n"
     ]
    }
   ],
   "source": [
    "# Using the Python requests library, make an API call to access the current price of BTC\n",
    "btc_response = requests.get(btc_url)\n",
    "# Use the json.dumps function to review the response data from the API call\n",
    "# Use the indent and sort_keys parameters to make the response object readable\n",
    "# YOUR CODE HERE\n",
    "btc_response_got=json.dumps(btc_response.json(), indent=4, sort_keys=True)\n",
    "print(btc_response_got)"
   ]
  },
  {
   "cell_type": "code",
   "execution_count": 7,
   "metadata": {},
   "outputs": [
    {
     "name": "stdout",
     "output_type": "stream",
     "text": [
      "{\n",
      "    \"data\": {\n",
      "        \"1027\": {\n",
      "            \"circulating_supply\": 116032536,\n",
      "            \"id\": 1027,\n",
      "            \"last_updated\": 1622037607,\n",
      "            \"max_supply\": 0,\n",
      "            \"name\": \"Ethereum\",\n",
      "            \"quotes\": {\n",
      "                \"USD\": {\n",
      "                    \"market_cap\": 317930124871,\n",
      "                    \"percent_change_1h\": -4.45345531425606,\n",
      "                    \"percent_change_24h\": 7.28258656410594,\n",
      "                    \"percent_change_7d\": -19.7453767750719,\n",
      "                    \"percentage_change_1h\": -4.45345531425606,\n",
      "                    \"percentage_change_24h\": 7.28258656410594,\n",
      "                    \"percentage_change_7d\": -19.7453767750719,\n",
      "                    \"price\": 2727.89,\n",
      "                    \"volume_24h\": 53705087646\n",
      "                }\n",
      "            },\n",
      "            \"rank\": 2,\n",
      "            \"symbol\": \"ETH\",\n",
      "            \"total_supply\": 116032536,\n",
      "            \"website_slug\": \"ethereum\"\n",
      "        }\n",
      "    },\n",
      "    \"metadata\": {\n",
      "        \"error\": null,\n",
      "        \"num_cryptocurrencies\": 1299,\n",
      "        \"timestamp\": 1622037607\n",
      "    }\n",
      "}\n"
     ]
    }
   ],
   "source": [
    "# Using the Python requests library, make an API call to access the current price ETH\n",
    "eth_response = requests.get(eth_url)\n",
    "\n",
    "# Use the json.dumps function to review the response data from the API call\n",
    "# Use the indent and sort_keys parameters to make the response object readable\n",
    "# YOUR CODE HERE\n",
    "eth_response_got=json.dumps(eth_response.json(), indent=4, sort_keys=True)\n",
    "print(eth_response_got)"
   ]
  },
  {
   "cell_type": "markdown",
   "metadata": {},
   "source": [
    "#### Step 3: Navigate the JSON response object to access the current price of each coin, and store each in a variable."
   ]
  },
  {
   "cell_type": "code",
   "execution_count": 8,
   "metadata": {},
   "outputs": [
    {
     "name": "stdout",
     "output_type": "stream",
     "text": [
      "38958.0\n"
     ]
    }
   ],
   "source": [
    "# Navigate the BTC response object to access the current price of BTC\n",
    "btc_price = json.loads(btc_response_got)[\"data\"][\"1\"][\"quotes\"][\"USD\"][\"price\"]\n",
    "\n",
    "# Print the current price of BTC\n",
    "# YOUR CODE HERE\n",
    "print(btc_price)"
   ]
  },
  {
   "cell_type": "code",
   "execution_count": 9,
   "metadata": {},
   "outputs": [
    {
     "name": "stdout",
     "output_type": "stream",
     "text": [
      "2727.89\n"
     ]
    }
   ],
   "source": [
    "# Navigate the BTC response object to access the current price of ETH\n",
    "eth_price = json.loads(eth_response_got)[\"data\"][\"1027\"][\"quotes\"][\"USD\"][\"price\"]\n",
    "\n",
    "# Print the current price of ETH\n",
    "# YOUR CODE HERE\n",
    "print(eth_price)"
   ]
  },
  {
   "cell_type": "markdown",
   "metadata": {},
   "source": [
    "### Step 4: Calculate the value, in US dollars, of the current amount of each cryptocurrency and of the entire cryptocurrency wallet."
   ]
  },
  {
   "cell_type": "code",
   "execution_count": 10,
   "metadata": {},
   "outputs": [
    {
     "name": "stdout",
     "output_type": "stream",
     "text": [
      "46749.6\n"
     ]
    }
   ],
   "source": [
    "# Compute the current value of the BTC holding \n",
    "btc_value = btc_coins*btc_price\n",
    "\n",
    "# Print current value of your holding in BTC\n",
    "# YOUR CODE HERE\n",
    "print(btc_value)"
   ]
  },
  {
   "cell_type": "code",
   "execution_count": 11,
   "metadata": {},
   "outputs": [
    {
     "name": "stdout",
     "output_type": "stream",
     "text": [
      "14457.817\n"
     ]
    }
   ],
   "source": [
    "# Compute the current value of the ETH holding \n",
    "eth_value = eth_coins*eth_price\n",
    "\n",
    "# Print current value of your holding in ETH\n",
    "# YOUR CODE HERE\n",
    "print(eth_value)"
   ]
  },
  {
   "cell_type": "code",
   "execution_count": 12,
   "metadata": {},
   "outputs": [
    {
     "name": "stdout",
     "output_type": "stream",
     "text": [
      "61207.417\n"
     ]
    }
   ],
   "source": [
    "# Compute the total value of the cryptocurrency wallet\n",
    "# Add the value of the BTC holding to the value of the ETH holding\n",
    "total_crypto_wallet = btc_value + eth_value\n",
    "\n",
    "# Print current cryptocurrency wallet balance\n",
    "# YOUR CODE HERE\n",
    "print(total_crypto_wallet)"
   ]
  },
  {
   "cell_type": "markdown",
   "metadata": {},
   "source": [
    "### Evaluate the Stock and Bond Holdings by Using the Alpaca SDK\n",
    "\n",
    "In this section, you’ll determine the current value of a member’s stock and bond holdings. You’ll make an API call to Alpaca via the Alpaca SDK to get the current closing prices of the SPDR S&P 500 ETF Trust (ticker: SPY) and of the iShares Core US Aggregate Bond ETF (ticker: AGG). For the prototype, assume that the member holds 110 shares of SPY, which represents the stock portion of their portfolio, and 200 shares of AGG, which represents the bond portion. To do all this, complete the following steps:\n",
    "\n",
    "1. In the `Starter_Code` folder, create an environment file (`.env`) to store the values of your Alpaca API key and Alpaca secret key.\n",
    "\n",
    "2. Set the variables for the Alpaca API and secret keys. Using the Alpaca SDK, create the Alpaca `tradeapi.REST` object. In this object, include the parameters for the Alpaca API key, the secret key, and the version number.\n",
    "\n",
    "3. Set the following parameters for the Alpaca API call:\n",
    "\n",
    "    - `tickers`: Use the tickers for the member’s stock and bond holdings.\n",
    "\n",
    "    - `timeframe`: Use a time frame of one day.\n",
    "\n",
    "    - `start_date` and `end_date`: Use the same date for these parameters, and format them with the date of the previous weekday (or `2020-08-07`). This is because you want the one closing price for the most-recent trading day.\n",
    "\n",
    "4. Get the current closing prices for `SPY` and `AGG` by using the Alpaca `get_barset` function. Format the response as a Pandas DataFrame by including the `df` property at the end of the `get_barset` function.\n",
    "\n",
    "5. Navigating the Alpaca response DataFrame, select the `SPY` and `AGG` closing prices, and store them as variables.\n",
    "\n",
    "6. Calculate the value, in US dollars, of the current amount of shares in each of the stock and bond portions of the portfolio, and print the results.\n"
   ]
  },
  {
   "cell_type": "markdown",
   "metadata": {},
   "source": [
    "#### Review the total number of shares held in both (SPY) and (AGG)."
   ]
  },
  {
   "cell_type": "code",
   "execution_count": 13,
   "metadata": {},
   "outputs": [],
   "source": [
    "# Current amount of shares held in both the stock (SPY) and bond (AGG) portion of the portfolio.\n",
    "spy_shares = 110\n",
    "agg_shares = 200\n"
   ]
  },
  {
   "cell_type": "markdown",
   "metadata": {},
   "source": [
    "#### Step 1: In the `Starter_Code` folder, create an environment file (`.env`) to store the values of your Alpaca API key and Alpaca secret key."
   ]
  },
  {
   "cell_type": "markdown",
   "metadata": {},
   "source": [
    "#### Step 2: Set the variables for the Alpaca API and secret keys. Using the Alpaca SDK, create the Alpaca `tradeapi.REST` object. In this object, include the parameters for the Alpaca API key, the secret key, and the version number."
   ]
  },
  {
   "cell_type": "code",
   "execution_count": 14,
   "metadata": {},
   "outputs": [
    {
     "name": "stdout",
     "output_type": "stream",
     "text": [
      "AK32EYIPWZOY16BZB0X4\n"
     ]
    }
   ],
   "source": [
    "# Set the variables for the Alpaca API and secret keys\n",
    "# YOUR CODE HERE\n",
    "# YOUR CODE HERE\n",
    "load_dotenv(\"./sample.env\")\n",
    "\n",
    "alpaca_api_key = os.getenv(\"ALPACA_API_KEY\")\n",
    "alpaca_secret_key = os.getenv(\"ALPACA_SECRET_KEY\")\n",
    "\n",
    "#config=dotenv_values(\"env\")#\n",
    "print(alpaca_api_key)\n",
    "# Create the Alpaca tradeapi.REST object\n",
    "# YOUR CODE HERE\n",
    "alpaca_client = tradeapi.REST(\n",
    "    alpaca_api_key,\n",
    "    alpaca_secret_key,\n",
    "    api_version=\"v2\")"
   ]
  },
  {
   "cell_type": "markdown",
   "metadata": {},
   "source": [
    "#### Step 3: Set the following parameters for the Alpaca API call:\n",
    "\n",
    "- `tickers`: Use the tickers for the member’s stock and bond holdings.\n",
    "\n",
    "- `timeframe`: Use a time frame of one day.\n",
    "\n",
    "- `start_date` and `end_date`: Use the same date for these parameters, and format them with the date of the previous weekday (or `2020-08-07`). This is because you want the one closing price for the most-recent trading day.\n"
   ]
  },
  {
   "cell_type": "code",
   "execution_count": 15,
   "metadata": {},
   "outputs": [],
   "source": [
    "# Set the tickers for both the bond and stock portion of the portfolio\n",
    "# YOUR CODE HERE\n",
    "tickers = [\"AGG\",\"SPY\"]\n",
    "# Set timeframe to 1D \n",
    "# YOUR CODE HERE\n",
    "timeframe=\"1D\"\n",
    "\n",
    "# Format current date as ISO format\n",
    "# Set both the start and end date at the date of your prior weekday \n",
    "# This will give you the closing price of the previous trading day\n",
    "# Alternatively you can use a start and end date of 2020-08-07\n",
    "# YOUR CODE HERE\n",
    "# YOUR CODE HERE\n",
    "today = pd.Timestamp(\"2021-05-19\", tz=\"America/New_York\").isoformat()\n",
    "\n",
    "\n",
    "        "
   ]
  },
  {
   "cell_type": "markdown",
   "metadata": {},
   "source": [
    "#### Step 4: Get the current closing prices for `SPY` and `AGG` by using the Alpaca `get_barset` function. Format the response as a Pandas DataFrame by including the `df` property at the end of the `get_barset` function."
   ]
  },
  {
   "cell_type": "code",
   "execution_count": 16,
   "metadata": {},
   "outputs": [
    {
     "data": {
      "text/html": [
       "<div>\n",
       "<style scoped>\n",
       "    .dataframe tbody tr th:only-of-type {\n",
       "        vertical-align: middle;\n",
       "    }\n",
       "\n",
       "    .dataframe tbody tr th {\n",
       "        vertical-align: top;\n",
       "    }\n",
       "\n",
       "    .dataframe thead tr th {\n",
       "        text-align: left;\n",
       "    }\n",
       "\n",
       "    .dataframe thead tr:last-of-type th {\n",
       "        text-align: right;\n",
       "    }\n",
       "</style>\n",
       "<table border=\"1\" class=\"dataframe\">\n",
       "  <thead>\n",
       "    <tr>\n",
       "      <th></th>\n",
       "      <th colspan=\"5\" halign=\"left\">AGG</th>\n",
       "      <th colspan=\"5\" halign=\"left\">SPY</th>\n",
       "    </tr>\n",
       "    <tr>\n",
       "      <th></th>\n",
       "      <th>open</th>\n",
       "      <th>high</th>\n",
       "      <th>low</th>\n",
       "      <th>close</th>\n",
       "      <th>volume</th>\n",
       "      <th>open</th>\n",
       "      <th>high</th>\n",
       "      <th>low</th>\n",
       "      <th>close</th>\n",
       "      <th>volume</th>\n",
       "    </tr>\n",
       "    <tr>\n",
       "      <th>time</th>\n",
       "      <th></th>\n",
       "      <th></th>\n",
       "      <th></th>\n",
       "      <th></th>\n",
       "      <th></th>\n",
       "      <th></th>\n",
       "      <th></th>\n",
       "      <th></th>\n",
       "      <th></th>\n",
       "      <th></th>\n",
       "    </tr>\n",
       "  </thead>\n",
       "  <tbody>\n",
       "    <tr>\n",
       "      <th>2021-05-19 00:00:00-04:00</th>\n",
       "      <td>114.62</td>\n",
       "      <td>114.62</td>\n",
       "      <td>113.79</td>\n",
       "      <td>113.920</td>\n",
       "      <td>6576312</td>\n",
       "      <td>406.92</td>\n",
       "      <td>411.050</td>\n",
       "      <td>405.335</td>\n",
       "      <td>410.90</td>\n",
       "      <td>94167279</td>\n",
       "    </tr>\n",
       "    <tr>\n",
       "      <th>2021-05-20 00:00:00-04:00</th>\n",
       "      <td>114.08</td>\n",
       "      <td>114.30</td>\n",
       "      <td>114.08</td>\n",
       "      <td>114.290</td>\n",
       "      <td>5647134</td>\n",
       "      <td>411.80</td>\n",
       "      <td>416.625</td>\n",
       "      <td>411.670</td>\n",
       "      <td>415.24</td>\n",
       "      <td>69427475</td>\n",
       "    </tr>\n",
       "    <tr>\n",
       "      <th>2021-05-21 00:00:00-04:00</th>\n",
       "      <td>114.36</td>\n",
       "      <td>114.40</td>\n",
       "      <td>114.23</td>\n",
       "      <td>114.320</td>\n",
       "      <td>3350907</td>\n",
       "      <td>416.87</td>\n",
       "      <td>418.200</td>\n",
       "      <td>414.450</td>\n",
       "      <td>414.95</td>\n",
       "      <td>66393170</td>\n",
       "    </tr>\n",
       "    <tr>\n",
       "      <th>2021-05-24 00:00:00-04:00</th>\n",
       "      <td>114.50</td>\n",
       "      <td>114.51</td>\n",
       "      <td>114.38</td>\n",
       "      <td>114.455</td>\n",
       "      <td>3756509</td>\n",
       "      <td>417.34</td>\n",
       "      <td>420.320</td>\n",
       "      <td>417.080</td>\n",
       "      <td>419.12</td>\n",
       "      <td>45499764</td>\n",
       "    </tr>\n",
       "    <tr>\n",
       "      <th>2021-05-25 00:00:00-04:00</th>\n",
       "      <td>114.58</td>\n",
       "      <td>114.75</td>\n",
       "      <td>114.56</td>\n",
       "      <td>114.740</td>\n",
       "      <td>3239766</td>\n",
       "      <td>420.33</td>\n",
       "      <td>420.710</td>\n",
       "      <td>417.620</td>\n",
       "      <td>418.25</td>\n",
       "      <td>50977513</td>\n",
       "    </tr>\n",
       "  </tbody>\n",
       "</table>\n",
       "</div>"
      ],
      "text/plain": [
       "                              AGG                                       SPY  \\\n",
       "                             open    high     low    close   volume    open   \n",
       "time                                                                          \n",
       "2021-05-19 00:00:00-04:00  114.62  114.62  113.79  113.920  6576312  406.92   \n",
       "2021-05-20 00:00:00-04:00  114.08  114.30  114.08  114.290  5647134  411.80   \n",
       "2021-05-21 00:00:00-04:00  114.36  114.40  114.23  114.320  3350907  416.87   \n",
       "2021-05-24 00:00:00-04:00  114.50  114.51  114.38  114.455  3756509  417.34   \n",
       "2021-05-25 00:00:00-04:00  114.58  114.75  114.56  114.740  3239766  420.33   \n",
       "\n",
       "                                                               \n",
       "                              high      low   close    volume  \n",
       "time                                                           \n",
       "2021-05-19 00:00:00-04:00  411.050  405.335  410.90  94167279  \n",
       "2021-05-20 00:00:00-04:00  416.625  411.670  415.24  69427475  \n",
       "2021-05-21 00:00:00-04:00  418.200  414.450  414.95  66393170  \n",
       "2021-05-24 00:00:00-04:00  420.320  417.080  419.12  45499764  \n",
       "2021-05-25 00:00:00-04:00  420.710  417.620  418.25  50977513  "
      ]
     },
     "execution_count": 16,
     "metadata": {},
     "output_type": "execute_result"
    }
   ],
   "source": [
    "# Use the Alpaca get_barset function to get current closing prices the portfolio\n",
    "# Be sure to set the `df` property after the function to format the response object as a DataFrame\n",
    "# YOUR CODE HERE\n",
    "my_investments= alpaca_client.get_barset(\n",
    "        tickers,\n",
    "        timeframe,\n",
    "        start=today,\n",
    "        limit=1000\n",
    "    ).df\n",
    "# Review the first 5 rows of the Alpaca DataFrame\n",
    "# YOUR CODE HERE\n",
    "my_investments.head()"
   ]
  },
  {
   "cell_type": "markdown",
   "metadata": {},
   "source": [
    "#### Step 5: Navigating the Alpaca response DataFrame, select the `SPY` and `AGG` closing prices, and store them as variables."
   ]
  },
  {
   "cell_type": "code",
   "execution_count": 17,
   "metadata": {},
   "outputs": [
    {
     "name": "stdout",
     "output_type": "stream",
     "text": [
      "113.92\n"
     ]
    }
   ],
   "source": [
    "# Access the closing price for AGG from the Alpaca DataFrame\n",
    "# Converting the value to a floating point number\n",
    "agg_close_price = my_investments[\"AGG\"][\"close\"][0]\n",
    "\n",
    "# Print the AGG closing price\n",
    "# YOUR CODE HERE\n",
    "print (agg_close_price)"
   ]
  },
  {
   "cell_type": "code",
   "execution_count": 18,
   "metadata": {},
   "outputs": [
    {
     "name": "stdout",
     "output_type": "stream",
     "text": [
      "410.9\n"
     ]
    }
   ],
   "source": [
    "# Access the closing price for SPY from the Alpaca DataFrame\n",
    "# Converting the value to a floating point number\n",
    "spy_close_price = my_investments[\"SPY\"][\"close\"][0]\n",
    "\n",
    "# Print the SPY closing price\n",
    "# YOUR CODE HERE\n",
    "print (spy_close_price)"
   ]
  },
  {
   "cell_type": "markdown",
   "metadata": {},
   "source": [
    "#### Step 6: Calculate the value, in US dollars, of the current amount of shares in each of the stock and bond portions of the portfolio, and print the results."
   ]
  },
  {
   "cell_type": "code",
   "execution_count": 19,
   "metadata": {},
   "outputs": [
    {
     "name": "stdout",
     "output_type": "stream",
     "text": [
      "22784.0\n"
     ]
    }
   ],
   "source": [
    "# Calculate the current value of the bond portion of the portfolio\n",
    "agg_value = agg_close_price * agg_shares\n",
    "\n",
    "# Print the current value of the bond portfolio\n",
    "# YOUR CODE HERE\n",
    "print (agg_value)"
   ]
  },
  {
   "cell_type": "code",
   "execution_count": 20,
   "metadata": {},
   "outputs": [
    {
     "name": "stdout",
     "output_type": "stream",
     "text": [
      "45199.0\n"
     ]
    }
   ],
   "source": [
    "# Calculate the current value of the stock portion of the portfolio\n",
    "spy_value = spy_close_price * spy_shares\n",
    "\n",
    "# Print the current value of the stock portfolio\n",
    "# YOUR CODE HERE\n",
    "print (spy_value)"
   ]
  },
  {
   "cell_type": "code",
   "execution_count": 21,
   "metadata": {},
   "outputs": [
    {
     "name": "stdout",
     "output_type": "stream",
     "text": [
      "67983.0\n"
     ]
    }
   ],
   "source": [
    "# Calculate the total value of the stock and bond portion of the portfolio\n",
    "total_stocks_bonds = agg_value + spy_value\n",
    "\n",
    "# Print the current balance of the stock and bond portion of the portfolio\n",
    "# YOUR CODE HERE\n",
    "print (total_stocks_bonds)"
   ]
  },
  {
   "cell_type": "code",
   "execution_count": 22,
   "metadata": {},
   "outputs": [
    {
     "name": "stdout",
     "output_type": "stream",
     "text": [
      "129190.417\n"
     ]
    }
   ],
   "source": [
    "# Calculate the total value of the member's entire savings portfolio\n",
    "# Add the value of the cryptocurrency walled to the value of the total stocks and bonds\n",
    "total_portfolio = total_stocks_bonds + total_crypto_wallet\n",
    "\n",
    "# Print current cryptocurrency wallet balance\n",
    "# YOUR CODE HERE\n",
    "print (total_portfolio)"
   ]
  },
  {
   "cell_type": "markdown",
   "metadata": {},
   "source": [
    "### Evaluate the Emergency Fund\n",
    "\n",
    "In this section, you’ll use the valuations for the cryptocurrency wallet and for the stock and bond portions of the portfolio to determine if the credit union member has enough savings to build an emergency fund into their financial plan. To do this, complete the following steps:\n",
    "\n",
    "1. Create a Python list named `savings_data` that has two elements. The first element contains the total value of the cryptocurrency wallet. The second element contains the total value of the stock and bond portions of the portfolio.\n",
    "\n",
    "2. Use the `savings_data` list to create a Pandas DataFrame named `savings_df`, and then display this DataFrame. The function to create the DataFrame should take the following three parameters:\n",
    "\n",
    "    - `savings_data`: Use the list that you just created.\n",
    "\n",
    "    - `columns`: Set this parameter equal to a Python list with a single value called `amount`.\n",
    "\n",
    "    - `index`: Set this parameter equal to a Python list with the values of `crypto` and `stock/bond`.\n",
    "\n",
    "3. Use the `savings_df` DataFrame to plot a pie chart that visualizes the composition of the member’s portfolio. The y-axis of the pie chart uses `amount`. Be sure to add a title.\n",
    "\n",
    "4. Using Python, determine if the current portfolio has enough to create an emergency fund as part of the member’s financial plan. Ideally, an emergency fund should equal to three times the member’s monthly income. To do this, implement the following steps:\n",
    "\n",
    "    1. Create a variable named `emergency_fund_value`, and set it equal to three times the value of the member’s `monthly_income` of $12000. (You set this earlier in Part 1).\n",
    "\n",
    "    2. Create a series of three if statements to determine if the member’s total portfolio is large enough to fund the emergency portfolio:\n",
    "\n",
    "        1. If the total portfolio value is greater than the emergency fund value, display a message congratulating the member for having enough money in this fund.\n",
    "\n",
    "        2. Else if the total portfolio value is equal to the emergency fund value, display a message congratulating the member on reaching this important financial goal.\n",
    "\n",
    "        3. Else the total portfolio is less than the emergency fund value, so display a message showing how many dollars away the member is from reaching the goal. (Subtract the total portfolio value from the emergency fund value.)\n"
   ]
  },
  {
   "cell_type": "markdown",
   "metadata": {},
   "source": [
    "#### Step 1: Create a Python list named `savings_data` that has two elements. The first element contains the total value of the cryptocurrency wallet. The second element contains the total value of the stock and bond portions of the portfolio."
   ]
  },
  {
   "cell_type": "code",
   "execution_count": 23,
   "metadata": {},
   "outputs": [
    {
     "data": {
      "text/plain": [
       "[67983.0, 61207.417]"
      ]
     },
     "metadata": {},
     "output_type": "display_data"
    }
   ],
   "source": [
    "# Consolidate financial assets data into a Python list\n",
    "# YOUR CODE HERE\n",
    "savings_data = [total_stocks_bonds, total_crypto_wallet]\n",
    "\n",
    "# Review the Python list savings_data\n",
    "# YOUR CODE HERE\n",
    "display(savings_data)    "
   ]
  },
  {
   "cell_type": "markdown",
   "metadata": {},
   "source": [
    "#### Step 2: Use the `savings_data` list to create a Pandas DataFrame named `savings_df`, and then display this DataFrame. The function to create the DataFrame should take the following three parameters:\n",
    "\n",
    "- `savings_data`: Use the list that you just created.\n",
    "\n",
    "- `columns`: Set this parameter equal to a Python list with a single value called `amount`.\n",
    "\n",
    "- `index`: Set this parameter equal to a Python list with the values of `crypto` and `stock/bond`.\n"
   ]
  },
  {
   "cell_type": "code",
   "execution_count": 24,
   "metadata": {},
   "outputs": [
    {
     "data": {
      "text/html": [
       "<div>\n",
       "<style scoped>\n",
       "    .dataframe tbody tr th:only-of-type {\n",
       "        vertical-align: middle;\n",
       "    }\n",
       "\n",
       "    .dataframe tbody tr th {\n",
       "        vertical-align: top;\n",
       "    }\n",
       "\n",
       "    .dataframe thead th {\n",
       "        text-align: right;\n",
       "    }\n",
       "</style>\n",
       "<table border=\"1\" class=\"dataframe\">\n",
       "  <thead>\n",
       "    <tr style=\"text-align: right;\">\n",
       "      <th></th>\n",
       "      <th>amount</th>\n",
       "    </tr>\n",
       "  </thead>\n",
       "  <tbody>\n",
       "    <tr>\n",
       "      <th>bonds</th>\n",
       "      <td>67983.000</td>\n",
       "    </tr>\n",
       "    <tr>\n",
       "      <th>crypto</th>\n",
       "      <td>61207.417</td>\n",
       "    </tr>\n",
       "  </tbody>\n",
       "</table>\n",
       "</div>"
      ],
      "text/plain": [
       "           amount\n",
       "bonds   67983.000\n",
       "crypto  61207.417"
      ]
     },
     "metadata": {},
     "output_type": "display_data"
    }
   ],
   "source": [
    "# Create a Pandas DataFrame called savings_df \n",
    "# YOUR CODE HERE\n",
    "savings_df = pd.DataFrame(savings_data, columns=[\"amount\"], index=[\"bonds\", \"crypto\"])\n",
    "# Display the savings_df DataFrame\n",
    "# YOUR CODE HERE\n",
    "display(savings_df)"
   ]
  },
  {
   "cell_type": "markdown",
   "metadata": {},
   "source": [
    "#### Step 3: Use the `savings_df` DataFrame to plot a pie chart that visualizes the composition of the member’s portfolio. The y-axis of the pie chart uses `amount`. Be sure to add a title."
   ]
  },
  {
   "cell_type": "code",
   "execution_count": 25,
   "metadata": {},
   "outputs": [
    {
     "data": {
      "text/plain": [
       "<AxesSubplot:title={'center':'savings'}, ylabel='amount'>"
      ]
     },
     "execution_count": 25,
     "metadata": {},
     "output_type": "execute_result"
    },
    {
     "data": {
      "image/png": "[encoded data removed]",
      "text/plain": [
       "<Figure size 432x288 with 1 Axes>"
      ]
     },
     "metadata": {},
     "output_type": "display_data"
    }
   ],
   "source": [
    "# Plot the total value of the member's portfolio (crypto and stock/bond) in a pie chart\n",
    "# YOUR CODE HERE\n",
    "savings_df.plot.pie(y=\"amount\", title=\"savings\")"
   ]
  },
  {
   "cell_type": "markdown",
   "metadata": {},
   "source": [
    "#### Step 4: Using Python, determine if the current portfolio has enough to create an emergency fund as part of the member’s financial plan. Ideally, an emergency fund should equal to three times the member’s monthly income. To do this, implement the following steps:\n",
    "\n",
    "Step 1. Create a variable named `emergency_fund_value`, and set it equal to three times the value of the member’s `monthly_income` of 12000. (You set this earlier in Part 1).\n",
    "\n",
    "Step 2. Create a series of three if statements to determine if the member’s total portfolio is large enough to fund the emergency portfolio:\n",
    "\n",
    "* If the total portfolio value is greater than the emergency fund value, display a message congratulating the member for having enough money in this fund.\n",
    "\n",
    "* Else if the total portfolio value is equal to the emergency fund value, display a message congratulating the member on reaching this important financial goal.\n",
    "\n",
    "* Else the total portfolio is less than the emergency fund value, so display a message showing how many dollars away the member is from reaching the goal. (Subtract the total portfolio value from the emergency fund value.)\n"
   ]
  },
  {
   "cell_type": "markdown",
   "metadata": {},
   "source": [
    "##### Step 4-1: Create a variable named `emergency_fund_value`, and set it equal to three times the value of the member’s `monthly_income` of 12000. (You set this earlier in Part 1)."
   ]
  },
  {
   "cell_type": "code",
   "execution_count": 26,
   "metadata": {},
   "outputs": [],
   "source": [
    "# Create a variable named emergency_fund_value\n",
    "# YOUR CODE HERE\n",
    "emergency_fund_value = monthly_income * 3"
   ]
  },
  {
   "cell_type": "markdown",
   "metadata": {},
   "source": [
    "##### Step 4-2: Create a series of three if statements to determine if the member’s total portfolio is large enough to fund the emergency portfolio:\n",
    "\n",
    "* If the total portfolio value is greater than the emergency fund value, display a message congratulating the member for having enough money in this fund.\n",
    "\n",
    "* Else if the total portfolio value is equal to the emergency fund value, display a message congratulating the member on reaching this important financial goal.\n",
    "\n",
    "* Else the total portfolio is less than the emergency fund value, so display a message showing how many dollars away the member is from reaching the goal. (Subtract the total portfolio value from the emergency fund value.)"
   ]
  },
  {
   "cell_type": "code",
   "execution_count": 27,
   "metadata": {},
   "outputs": [
    {
     "name": "stdout",
     "output_type": "stream",
     "text": [
      "Congratulations...You have enough funds to survive in an emergency\n"
     ]
    }
   ],
   "source": [
    "# Evaluate the possibility of creating an emergency fund with 3 conditions:\n",
    "# YOUR CODE HERE\n",
    "# YOUR CODE HERE\n",
    "# YOUR CODE HERE\n",
    "if total_portfolio > emergency_fund_value:\n",
    "        print(\"Congratulations...You have enough funds to survive in an emergency\")\n",
    "elif total_portfolio == emergency_fund_value:\n",
    "    print(\"Congratulations on achieving an important financial goal\")\n",
    "else:\n",
    "    print(f\"You need ${(emergency_fund_value-total_portfolio)} to reach your goal\")"
   ]
  },
  {
   "cell_type": "markdown",
   "metadata": {},
   "source": [
    "## Part 2: Create a Financial Planner for Retirement"
   ]
  },
  {
   "cell_type": "markdown",
   "metadata": {},
   "source": [
    "### Create the Monte Carlo Simulation\n",
    "\n",
    "In this section, you’ll use the MCForecastTools library to create a Monte Carlo simulation for the member’s savings portfolio. To do this, complete the following steps:\n",
    "\n",
    "1. Make an API call via the Alpaca SDK to get 10 years of historical closing prices for a traditional 60/40 portfolio split: 60% stocks (SPY) and 40% bonds (AGG).\n",
    "\n",
    "2. Run a Monte Carlo simulation of 500 samples and 30 years for the 60/40 portfolio, and then plot the results.The following image shows the overlay line plot resulting from a simulation with these characteristics. However, because a random number generator is used to run each live Monte Carlo simulation, your image will differ slightly from this exact image:\n",
    "\n",
    "![A screenshot depicts the resulting plot.](Images/5-4-monte-carlo-line-plot.png)\n",
    "\n",
    "3. Plot the probability distribution of the Monte Carlo simulation. Plot the probability distribution of the Monte Carlo simulation. The following image shows the histogram plot resulting from a simulation with these characteristics. However, because a random number generator is used to run each live Monte Carlo simulation, your image will differ slightly from this exact image:\n",
    "\n",
    "![A screenshot depicts the histogram plot.](Images/5-4-monte-carlo-histogram.png)\n",
    "\n",
    "4. Generate the summary statistics for the Monte Carlo simulation.\n",
    "\n"
   ]
  },
  {
   "cell_type": "markdown",
   "metadata": {},
   "source": [
    "#### Step 1: Make an API call via the Alpaca SDK to get 10 years of historical closing prices for a traditional 60/40 portfolio split: 60% stocks (SPY) and 40% bonds (AGG)."
   ]
  },
  {
   "cell_type": "code",
   "execution_count": 29,
   "metadata": {},
   "outputs": [],
   "source": [
    "# Set start and end dates of 10 years back from your current date\n",
    "# Alternatively, you can use an end date of 2020-08-07 and work 10 years back from that date \n",
    "# YOUR CODE HERE\n",
    "# YOUR CODE HERE\n",
    "start_date = pd.Timestamp(\"2011-05-22\", tz=\"America/New_York\").isoformat()\n",
    "end_date = pd.Timestamp(\"2021-05-22\", tz=\"America/New_York\").isoformat()\n"
   ]
  },
  {
   "cell_type": "code",
   "execution_count": 31,
   "metadata": {},
   "outputs": [
    {
     "data": {
      "text/html": [
       "<div>\n",
       "<style scoped>\n",
       "    .dataframe tbody tr th:only-of-type {\n",
       "        vertical-align: middle;\n",
       "    }\n",
       "\n",
       "    .dataframe tbody tr th {\n",
       "        vertical-align: top;\n",
       "    }\n",
       "\n",
       "    .dataframe thead tr th {\n",
       "        text-align: left;\n",
       "    }\n",
       "\n",
       "    .dataframe thead tr:last-of-type th {\n",
       "        text-align: right;\n",
       "    }\n",
       "</style>\n",
       "<table border=\"1\" class=\"dataframe\">\n",
       "  <thead>\n",
       "    <tr>\n",
       "      <th></th>\n",
       "      <th colspan=\"5\" halign=\"left\">AGG</th>\n",
       "      <th colspan=\"5\" halign=\"left\">SPY</th>\n",
       "    </tr>\n",
       "    <tr>\n",
       "      <th></th>\n",
       "      <th>open</th>\n",
       "      <th>high</th>\n",
       "      <th>low</th>\n",
       "      <th>close</th>\n",
       "      <th>volume</th>\n",
       "      <th>open</th>\n",
       "      <th>high</th>\n",
       "      <th>low</th>\n",
       "      <th>close</th>\n",
       "      <th>volume</th>\n",
       "    </tr>\n",
       "    <tr>\n",
       "      <th>time</th>\n",
       "      <th></th>\n",
       "      <th></th>\n",
       "      <th></th>\n",
       "      <th></th>\n",
       "      <th></th>\n",
       "      <th></th>\n",
       "      <th></th>\n",
       "      <th></th>\n",
       "      <th></th>\n",
       "      <th></th>\n",
       "    </tr>\n",
       "  </thead>\n",
       "  <tbody>\n",
       "    <tr>\n",
       "      <th>2020-12-29 00:00:00-05:00</th>\n",
       "      <td>118.06</td>\n",
       "      <td>118.06</td>\n",
       "      <td>117.9200</td>\n",
       "      <td>118.050</td>\n",
       "      <td>3255442</td>\n",
       "      <td>373.81</td>\n",
       "      <td>374.00</td>\n",
       "      <td>370.830</td>\n",
       "      <td>371.48</td>\n",
       "      <td>45214280</td>\n",
       "    </tr>\n",
       "    <tr>\n",
       "      <th>2020-12-30 00:00:00-05:00</th>\n",
       "      <td>118.09</td>\n",
       "      <td>118.12</td>\n",
       "      <td>117.9815</td>\n",
       "      <td>118.100</td>\n",
       "      <td>2593714</td>\n",
       "      <td>372.34</td>\n",
       "      <td>373.10</td>\n",
       "      <td>371.570</td>\n",
       "      <td>371.93</td>\n",
       "      <td>40295732</td>\n",
       "    </tr>\n",
       "    <tr>\n",
       "      <th>2020-12-31 00:00:00-05:00</th>\n",
       "      <td>118.18</td>\n",
       "      <td>118.24</td>\n",
       "      <td>118.1200</td>\n",
       "      <td>118.200</td>\n",
       "      <td>4325026</td>\n",
       "      <td>371.78</td>\n",
       "      <td>374.66</td>\n",
       "      <td>371.232</td>\n",
       "      <td>373.85</td>\n",
       "      <td>52720911</td>\n",
       "    </tr>\n",
       "    <tr>\n",
       "      <th>2021-01-04 00:00:00-05:00</th>\n",
       "      <td>118.08</td>\n",
       "      <td>118.14</td>\n",
       "      <td>117.9850</td>\n",
       "      <td>118.040</td>\n",
       "      <td>6211938</td>\n",
       "      <td>375.31</td>\n",
       "      <td>375.45</td>\n",
       "      <td>364.820</td>\n",
       "      <td>368.85</td>\n",
       "      <td>92938087</td>\n",
       "    </tr>\n",
       "    <tr>\n",
       "      <th>2021-01-05 00:00:00-05:00</th>\n",
       "      <td>118.06</td>\n",
       "      <td>118.06</td>\n",
       "      <td>117.7500</td>\n",
       "      <td>117.915</td>\n",
       "      <td>5915389</td>\n",
       "      <td>368.10</td>\n",
       "      <td>372.50</td>\n",
       "      <td>368.050</td>\n",
       "      <td>371.32</td>\n",
       "      <td>53668865</td>\n",
       "    </tr>\n",
       "  </tbody>\n",
       "</table>\n",
       "</div>"
      ],
      "text/plain": [
       "                              AGG                                         SPY  \\\n",
       "                             open    high       low    close   volume    open   \n",
       "time                                                                            \n",
       "2020-12-29 00:00:00-05:00  118.06  118.06  117.9200  118.050  3255442  373.81   \n",
       "2020-12-30 00:00:00-05:00  118.09  118.12  117.9815  118.100  2593714  372.34   \n",
       "2020-12-31 00:00:00-05:00  118.18  118.24  118.1200  118.200  4325026  371.78   \n",
       "2021-01-04 00:00:00-05:00  118.08  118.14  117.9850  118.040  6211938  375.31   \n",
       "2021-01-05 00:00:00-05:00  118.06  118.06  117.7500  117.915  5915389  368.10   \n",
       "\n",
       "                                                              \n",
       "                             high      low   close    volume  \n",
       "time                                                          \n",
       "2020-12-29 00:00:00-05:00  374.00  370.830  371.48  45214280  \n",
       "2020-12-30 00:00:00-05:00  373.10  371.570  371.93  40295732  \n",
       "2020-12-31 00:00:00-05:00  374.66  371.232  373.85  52720911  \n",
       "2021-01-04 00:00:00-05:00  375.45  364.820  368.85  92938087  \n",
       "2021-01-05 00:00:00-05:00  372.50  368.050  371.32  53668865  "
      ]
     },
     "execution_count": 31,
     "metadata": {},
     "output_type": "execute_result"
    }
   ],
   "source": [
    "# Use the Alpaca get_barset function to make the API call to get the 10 years worth of pricing data\n",
    "# The tickers and timeframe parameters should have been set in Part 1 of this activity \n",
    "# The start and end dates should be updated with the information set above\n",
    "# Remember to add the df property to the end of the call so the response is returned as a DataFrame\n",
    "# YOUR CODE HERE\n",
    "prices_df = alpaca_client.get_barset(\n",
    "    tickers,\n",
    "    timeframe,\n",
    "    start=start_date,\n",
    "    end=end_date,\n",
    ").df\n",
    "\n",
    "# Display both the first and last five rows of the DataFrame\n",
    "# YOUR CODE HERE\n",
    "# YOUR CODE HERE\n",
    "prices_df.head()"
   ]
  },
  {
   "cell_type": "markdown",
   "metadata": {},
   "source": [
    "#### Step 2: Run a Monte Carlo simulation of 500 samples and 30 years for the 60/40 portfolio, and then plot the results."
   ]
  },
  {
   "cell_type": "code",
   "execution_count": 33,
   "metadata": {},
   "outputs": [
    {
     "data": {
      "text/html": [
       "<div>\n",
       "<style scoped>\n",
       "    .dataframe tbody tr th:only-of-type {\n",
       "        vertical-align: middle;\n",
       "    }\n",
       "\n",
       "    .dataframe tbody tr th {\n",
       "        vertical-align: top;\n",
       "    }\n",
       "\n",
       "    .dataframe thead tr th {\n",
       "        text-align: left;\n",
       "    }\n",
       "\n",
       "    .dataframe thead tr:last-of-type th {\n",
       "        text-align: right;\n",
       "    }\n",
       "</style>\n",
       "<table border=\"1\" class=\"dataframe\">\n",
       "  <thead>\n",
       "    <tr>\n",
       "      <th></th>\n",
       "      <th colspan=\"6\" halign=\"left\">AGG</th>\n",
       "      <th colspan=\"6\" halign=\"left\">SPY</th>\n",
       "    </tr>\n",
       "    <tr>\n",
       "      <th></th>\n",
       "      <th>open</th>\n",
       "      <th>high</th>\n",
       "      <th>low</th>\n",
       "      <th>close</th>\n",
       "      <th>volume</th>\n",
       "      <th>daily_return</th>\n",
       "      <th>open</th>\n",
       "      <th>high</th>\n",
       "      <th>low</th>\n",
       "      <th>close</th>\n",
       "      <th>volume</th>\n",
       "      <th>daily_return</th>\n",
       "    </tr>\n",
       "    <tr>\n",
       "      <th>time</th>\n",
       "      <th></th>\n",
       "      <th></th>\n",
       "      <th></th>\n",
       "      <th></th>\n",
       "      <th></th>\n",
       "      <th></th>\n",
       "      <th></th>\n",
       "      <th></th>\n",
       "      <th></th>\n",
       "      <th></th>\n",
       "      <th></th>\n",
       "      <th></th>\n",
       "    </tr>\n",
       "  </thead>\n",
       "  <tbody>\n",
       "    <tr>\n",
       "      <th>2020-12-29 00:00:00-05:00</th>\n",
       "      <td>118.06</td>\n",
       "      <td>118.06</td>\n",
       "      <td>117.9200</td>\n",
       "      <td>118.050</td>\n",
       "      <td>3255442</td>\n",
       "      <td>NaN</td>\n",
       "      <td>373.81</td>\n",
       "      <td>374.00</td>\n",
       "      <td>370.830</td>\n",
       "      <td>371.48</td>\n",
       "      <td>45214280</td>\n",
       "      <td>NaN</td>\n",
       "    </tr>\n",
       "    <tr>\n",
       "      <th>2020-12-30 00:00:00-05:00</th>\n",
       "      <td>118.09</td>\n",
       "      <td>118.12</td>\n",
       "      <td>117.9815</td>\n",
       "      <td>118.100</td>\n",
       "      <td>2593714</td>\n",
       "      <td>0.000424</td>\n",
       "      <td>372.34</td>\n",
       "      <td>373.10</td>\n",
       "      <td>371.570</td>\n",
       "      <td>371.93</td>\n",
       "      <td>40295732</td>\n",
       "      <td>0.001211</td>\n",
       "    </tr>\n",
       "    <tr>\n",
       "      <th>2020-12-31 00:00:00-05:00</th>\n",
       "      <td>118.18</td>\n",
       "      <td>118.24</td>\n",
       "      <td>118.1200</td>\n",
       "      <td>118.200</td>\n",
       "      <td>4325026</td>\n",
       "      <td>0.000847</td>\n",
       "      <td>371.78</td>\n",
       "      <td>374.66</td>\n",
       "      <td>371.232</td>\n",
       "      <td>373.85</td>\n",
       "      <td>52720911</td>\n",
       "      <td>0.005162</td>\n",
       "    </tr>\n",
       "    <tr>\n",
       "      <th>2021-01-04 00:00:00-05:00</th>\n",
       "      <td>118.08</td>\n",
       "      <td>118.14</td>\n",
       "      <td>117.9850</td>\n",
       "      <td>118.040</td>\n",
       "      <td>6211938</td>\n",
       "      <td>-0.001354</td>\n",
       "      <td>375.31</td>\n",
       "      <td>375.45</td>\n",
       "      <td>364.820</td>\n",
       "      <td>368.85</td>\n",
       "      <td>92938087</td>\n",
       "      <td>-0.013374</td>\n",
       "    </tr>\n",
       "    <tr>\n",
       "      <th>2021-01-05 00:00:00-05:00</th>\n",
       "      <td>118.06</td>\n",
       "      <td>118.06</td>\n",
       "      <td>117.7500</td>\n",
       "      <td>117.915</td>\n",
       "      <td>5915389</td>\n",
       "      <td>-0.001059</td>\n",
       "      <td>368.10</td>\n",
       "      <td>372.50</td>\n",
       "      <td>368.050</td>\n",
       "      <td>371.32</td>\n",
       "      <td>53668865</td>\n",
       "      <td>0.006696</td>\n",
       "    </tr>\n",
       "  </tbody>\n",
       "</table>\n",
       "</div>"
      ],
      "text/plain": [
       "                              AGG                                      \\\n",
       "                             open    high       low    close   volume   \n",
       "time                                                                    \n",
       "2020-12-29 00:00:00-05:00  118.06  118.06  117.9200  118.050  3255442   \n",
       "2020-12-30 00:00:00-05:00  118.09  118.12  117.9815  118.100  2593714   \n",
       "2020-12-31 00:00:00-05:00  118.18  118.24  118.1200  118.200  4325026   \n",
       "2021-01-04 00:00:00-05:00  118.08  118.14  117.9850  118.040  6211938   \n",
       "2021-01-05 00:00:00-05:00  118.06  118.06  117.7500  117.915  5915389   \n",
       "\n",
       "                                           SPY                           \\\n",
       "                          daily_return    open    high      low   close   \n",
       "time                                                                      \n",
       "2020-12-29 00:00:00-05:00          NaN  373.81  374.00  370.830  371.48   \n",
       "2020-12-30 00:00:00-05:00     0.000424  372.34  373.10  371.570  371.93   \n",
       "2020-12-31 00:00:00-05:00     0.000847  371.78  374.66  371.232  373.85   \n",
       "2021-01-04 00:00:00-05:00    -0.001354  375.31  375.45  364.820  368.85   \n",
       "2021-01-05 00:00:00-05:00    -0.001059  368.10  372.50  368.050  371.32   \n",
       "\n",
       "                                                  \n",
       "                             volume daily_return  \n",
       "time                                              \n",
       "2020-12-29 00:00:00-05:00  45214280          NaN  \n",
       "2020-12-30 00:00:00-05:00  40295732     0.001211  \n",
       "2020-12-31 00:00:00-05:00  52720911     0.005162  \n",
       "2021-01-04 00:00:00-05:00  92938087    -0.013374  \n",
       "2021-01-05 00:00:00-05:00  53668865     0.006696  "
      ]
     },
     "execution_count": 33,
     "metadata": {},
     "output_type": "execute_result"
    }
   ],
   "source": [
    "# Configure the Monte Carlo simulation to forecast 30 years cumulative returns\n",
    "# The weights should be split 40% to AGG and 60% to SPY.\n",
    "# Run 500 samples.\n",
    "MC_thirtyyear = MCSimulation(\n",
    "    portfolio_data = prices_df,\n",
    "    weights = [.40, .60],\n",
    "    num_simulation = 500,\n",
    "    num_trading_days = 252*30\n",
    ")\n",
    "\n",
    "# Review the simulation input data\n",
    "# YOUR CODE HERE\n",
    "MC_thirtyyear.portfolio_data.head()"
   ]
  },
  {
   "cell_type": "code",
   "execution_count": 34,
   "metadata": {},
   "outputs": [
    {
     "name": "stdout",
     "output_type": "stream",
     "text": [
      "Running Monte Carlo simulation number 0.\n",
      "Running Monte Carlo simulation number 10.\n",
      "Running Monte Carlo simulation number 20.\n",
      "Running Monte Carlo simulation number 30.\n",
      "Running Monte Carlo simulation number 40.\n",
      "Running Monte Carlo simulation number 50.\n",
      "Running Monte Carlo simulation number 60.\n",
      "Running Monte Carlo simulation number 70.\n",
      "Running Monte Carlo simulation number 80.\n",
      "Running Monte Carlo simulation number 90.\n",
      "Running Monte Carlo simulation number 100.\n",
      "Running Monte Carlo simulation number 110.\n",
      "Running Monte Carlo simulation number 120.\n",
      "Running Monte Carlo simulation number 130.\n",
      "Running Monte Carlo simulation number 140.\n",
      "Running Monte Carlo simulation number 150.\n",
      "Running Monte Carlo simulation number 160.\n",
      "Running Monte Carlo simulation number 170.\n",
      "Running Monte Carlo simulation number 180.\n",
      "Running Monte Carlo simulation number 190.\n",
      "Running Monte Carlo simulation number 200.\n",
      "Running Monte Carlo simulation number 210.\n",
      "Running Monte Carlo simulation number 220.\n",
      "Running Monte Carlo simulation number 230.\n",
      "Running Monte Carlo simulation number 240.\n",
      "Running Monte Carlo simulation number 250.\n",
      "Running Monte Carlo simulation number 260.\n",
      "Running Monte Carlo simulation number 270.\n",
      "Running Monte Carlo simulation number 280.\n",
      "Running Monte Carlo simulation number 290.\n",
      "Running Monte Carlo simulation number 300.\n",
      "Running Monte Carlo simulation number 310.\n",
      "Running Monte Carlo simulation number 320.\n",
      "Running Monte Carlo simulation number 330.\n",
      "Running Monte Carlo simulation number 340.\n",
      "Running Monte Carlo simulation number 350.\n",
      "Running Monte Carlo simulation number 360.\n",
      "Running Monte Carlo simulation number 370.\n",
      "Running Monte Carlo simulation number 380.\n",
      "Running Monte Carlo simulation number 390.\n",
      "Running Monte Carlo simulation number 400.\n",
      "Running Monte Carlo simulation number 410.\n",
      "Running Monte Carlo simulation number 420.\n",
      "Running Monte Carlo simulation number 430.\n",
      "Running Monte Carlo simulation number 440.\n",
      "Running Monte Carlo simulation number 450.\n",
      "Running Monte Carlo simulation number 460.\n",
      "Running Monte Carlo simulation number 470.\n",
      "Running Monte Carlo simulation number 480.\n",
      "Running Monte Carlo simulation number 490.\n"
     ]
    },
    {
     "data": {
      "text/html": [
       "<div>\n",
       "<style scoped>\n",
       "    .dataframe tbody tr th:only-of-type {\n",
       "        vertical-align: middle;\n",
       "    }\n",
       "\n",
       "    .dataframe tbody tr th {\n",
       "        vertical-align: top;\n",
       "    }\n",
       "\n",
       "    .dataframe thead th {\n",
       "        text-align: right;\n",
       "    }\n",
       "</style>\n",
       "<table border=\"1\" class=\"dataframe\">\n",
       "  <thead>\n",
       "    <tr style=\"text-align: right;\">\n",
       "      <th></th>\n",
       "      <th>0</th>\n",
       "      <th>1</th>\n",
       "      <th>2</th>\n",
       "      <th>3</th>\n",
       "      <th>4</th>\n",
       "      <th>5</th>\n",
       "      <th>6</th>\n",
       "      <th>7</th>\n",
       "      <th>8</th>\n",
       "      <th>9</th>\n",
       "      <th>...</th>\n",
       "      <th>490</th>\n",
       "      <th>491</th>\n",
       "      <th>492</th>\n",
       "      <th>493</th>\n",
       "      <th>494</th>\n",
       "      <th>495</th>\n",
       "      <th>496</th>\n",
       "      <th>497</th>\n",
       "      <th>498</th>\n",
       "      <th>499</th>\n",
       "    </tr>\n",
       "  </thead>\n",
       "  <tbody>\n",
       "    <tr>\n",
       "      <th>0</th>\n",
       "      <td>1.000000</td>\n",
       "      <td>1.000000</td>\n",
       "      <td>1.000000</td>\n",
       "      <td>1.000000</td>\n",
       "      <td>1.000000</td>\n",
       "      <td>1.000000</td>\n",
       "      <td>1.000000</td>\n",
       "      <td>1.000000</td>\n",
       "      <td>1.000000</td>\n",
       "      <td>1.000000</td>\n",
       "      <td>...</td>\n",
       "      <td>1.000000</td>\n",
       "      <td>1.000000</td>\n",
       "      <td>1.000000</td>\n",
       "      <td>1.000000</td>\n",
       "      <td>1.000000</td>\n",
       "      <td>1.000000</td>\n",
       "      <td>1.000000</td>\n",
       "      <td>1.000000</td>\n",
       "      <td>1.000000</td>\n",
       "      <td>1.000000</td>\n",
       "    </tr>\n",
       "    <tr>\n",
       "      <th>1</th>\n",
       "      <td>1.010833</td>\n",
       "      <td>1.010236</td>\n",
       "      <td>1.009137</td>\n",
       "      <td>0.995570</td>\n",
       "      <td>1.001660</td>\n",
       "      <td>1.001447</td>\n",
       "      <td>0.992634</td>\n",
       "      <td>0.985875</td>\n",
       "      <td>0.991301</td>\n",
       "      <td>1.013214</td>\n",
       "      <td>...</td>\n",
       "      <td>1.008408</td>\n",
       "      <td>1.005021</td>\n",
       "      <td>0.998196</td>\n",
       "      <td>0.996027</td>\n",
       "      <td>0.994011</td>\n",
       "      <td>1.001739</td>\n",
       "      <td>0.998817</td>\n",
       "      <td>0.998695</td>\n",
       "      <td>1.004666</td>\n",
       "      <td>0.997383</td>\n",
       "    </tr>\n",
       "    <tr>\n",
       "      <th>2</th>\n",
       "      <td>1.017251</td>\n",
       "      <td>1.005064</td>\n",
       "      <td>1.023598</td>\n",
       "      <td>0.998726</td>\n",
       "      <td>1.000715</td>\n",
       "      <td>1.004421</td>\n",
       "      <td>0.992309</td>\n",
       "      <td>0.995854</td>\n",
       "      <td>0.990621</td>\n",
       "      <td>1.016394</td>\n",
       "      <td>...</td>\n",
       "      <td>1.014044</td>\n",
       "      <td>1.005272</td>\n",
       "      <td>0.992040</td>\n",
       "      <td>0.995300</td>\n",
       "      <td>0.989600</td>\n",
       "      <td>1.004424</td>\n",
       "      <td>0.996939</td>\n",
       "      <td>0.998282</td>\n",
       "      <td>1.002803</td>\n",
       "      <td>0.996190</td>\n",
       "    </tr>\n",
       "    <tr>\n",
       "      <th>3</th>\n",
       "      <td>1.030745</td>\n",
       "      <td>1.011473</td>\n",
       "      <td>1.021335</td>\n",
       "      <td>0.995576</td>\n",
       "      <td>1.006074</td>\n",
       "      <td>1.006346</td>\n",
       "      <td>0.993633</td>\n",
       "      <td>0.998766</td>\n",
       "      <td>0.987497</td>\n",
       "      <td>1.010674</td>\n",
       "      <td>...</td>\n",
       "      <td>1.014731</td>\n",
       "      <td>1.011806</td>\n",
       "      <td>0.990070</td>\n",
       "      <td>0.991593</td>\n",
       "      <td>0.987072</td>\n",
       "      <td>0.991356</td>\n",
       "      <td>1.000110</td>\n",
       "      <td>1.002002</td>\n",
       "      <td>1.015170</td>\n",
       "      <td>0.999696</td>\n",
       "    </tr>\n",
       "    <tr>\n",
       "      <th>4</th>\n",
       "      <td>1.029460</td>\n",
       "      <td>1.022629</td>\n",
       "      <td>1.029418</td>\n",
       "      <td>0.999838</td>\n",
       "      <td>1.014485</td>\n",
       "      <td>1.006179</td>\n",
       "      <td>1.002598</td>\n",
       "      <td>0.992142</td>\n",
       "      <td>0.979721</td>\n",
       "      <td>1.007357</td>\n",
       "      <td>...</td>\n",
       "      <td>1.021045</td>\n",
       "      <td>1.007656</td>\n",
       "      <td>0.994227</td>\n",
       "      <td>0.989610</td>\n",
       "      <td>0.992986</td>\n",
       "      <td>0.989995</td>\n",
       "      <td>1.007081</td>\n",
       "      <td>1.011496</td>\n",
       "      <td>1.017999</td>\n",
       "      <td>0.996590</td>\n",
       "    </tr>\n",
       "    <tr>\n",
       "      <th>...</th>\n",
       "      <td>...</td>\n",
       "      <td>...</td>\n",
       "      <td>...</td>\n",
       "      <td>...</td>\n",
       "      <td>...</td>\n",
       "      <td>...</td>\n",
       "      <td>...</td>\n",
       "      <td>...</td>\n",
       "      <td>...</td>\n",
       "      <td>...</td>\n",
       "      <td>...</td>\n",
       "      <td>...</td>\n",
       "      <td>...</td>\n",
       "      <td>...</td>\n",
       "      <td>...</td>\n",
       "      <td>...</td>\n",
       "      <td>...</td>\n",
       "      <td>...</td>\n",
       "      <td>...</td>\n",
       "      <td>...</td>\n",
       "      <td>...</td>\n",
       "    </tr>\n",
       "    <tr>\n",
       "      <th>7556</th>\n",
       "      <td>86.406233</td>\n",
       "      <td>100.337043</td>\n",
       "      <td>45.305508</td>\n",
       "      <td>55.874134</td>\n",
       "      <td>29.576050</td>\n",
       "      <td>37.441543</td>\n",
       "      <td>107.540930</td>\n",
       "      <td>23.510334</td>\n",
       "      <td>33.709476</td>\n",
       "      <td>33.220947</td>\n",
       "      <td>...</td>\n",
       "      <td>66.744113</td>\n",
       "      <td>35.690113</td>\n",
       "      <td>109.316310</td>\n",
       "      <td>53.451441</td>\n",
       "      <td>83.091737</td>\n",
       "      <td>26.629199</td>\n",
       "      <td>92.362770</td>\n",
       "      <td>55.800378</td>\n",
       "      <td>130.259485</td>\n",
       "      <td>62.452924</td>\n",
       "    </tr>\n",
       "    <tr>\n",
       "      <th>7557</th>\n",
       "      <td>86.612486</td>\n",
       "      <td>100.111653</td>\n",
       "      <td>45.445249</td>\n",
       "      <td>56.250706</td>\n",
       "      <td>29.449346</td>\n",
       "      <td>37.234444</td>\n",
       "      <td>106.893075</td>\n",
       "      <td>23.616260</td>\n",
       "      <td>33.762186</td>\n",
       "      <td>33.284342</td>\n",
       "      <td>...</td>\n",
       "      <td>67.123757</td>\n",
       "      <td>35.635918</td>\n",
       "      <td>110.744085</td>\n",
       "      <td>53.034561</td>\n",
       "      <td>82.978436</td>\n",
       "      <td>26.838153</td>\n",
       "      <td>91.971556</td>\n",
       "      <td>55.992638</td>\n",
       "      <td>129.844474</td>\n",
       "      <td>62.796163</td>\n",
       "    </tr>\n",
       "    <tr>\n",
       "      <th>7558</th>\n",
       "      <td>86.172017</td>\n",
       "      <td>99.829996</td>\n",
       "      <td>45.932862</td>\n",
       "      <td>56.236268</td>\n",
       "      <td>29.372603</td>\n",
       "      <td>36.765949</td>\n",
       "      <td>107.236418</td>\n",
       "      <td>23.816403</td>\n",
       "      <td>33.785434</td>\n",
       "      <td>33.144174</td>\n",
       "      <td>...</td>\n",
       "      <td>67.151106</td>\n",
       "      <td>35.564207</td>\n",
       "      <td>110.209842</td>\n",
       "      <td>53.018116</td>\n",
       "      <td>82.244898</td>\n",
       "      <td>26.642299</td>\n",
       "      <td>92.656871</td>\n",
       "      <td>56.219308</td>\n",
       "      <td>129.552010</td>\n",
       "      <td>63.156866</td>\n",
       "    </tr>\n",
       "    <tr>\n",
       "      <th>7559</th>\n",
       "      <td>86.279570</td>\n",
       "      <td>98.874441</td>\n",
       "      <td>45.845883</td>\n",
       "      <td>56.445144</td>\n",
       "      <td>29.459939</td>\n",
       "      <td>36.788332</td>\n",
       "      <td>107.995465</td>\n",
       "      <td>23.853953</td>\n",
       "      <td>33.830534</td>\n",
       "      <td>33.240179</td>\n",
       "      <td>...</td>\n",
       "      <td>67.197872</td>\n",
       "      <td>35.673309</td>\n",
       "      <td>109.266193</td>\n",
       "      <td>52.661782</td>\n",
       "      <td>81.638270</td>\n",
       "      <td>26.787439</td>\n",
       "      <td>92.269229</td>\n",
       "      <td>56.383809</td>\n",
       "      <td>128.481167</td>\n",
       "      <td>62.915531</td>\n",
       "    </tr>\n",
       "    <tr>\n",
       "      <th>7560</th>\n",
       "      <td>86.576899</td>\n",
       "      <td>99.195985</td>\n",
       "      <td>45.929266</td>\n",
       "      <td>56.211647</td>\n",
       "      <td>29.512812</td>\n",
       "      <td>36.692111</td>\n",
       "      <td>108.367288</td>\n",
       "      <td>24.035538</td>\n",
       "      <td>33.627929</td>\n",
       "      <td>33.058852</td>\n",
       "      <td>...</td>\n",
       "      <td>66.992205</td>\n",
       "      <td>35.889221</td>\n",
       "      <td>109.013817</td>\n",
       "      <td>52.587826</td>\n",
       "      <td>81.267040</td>\n",
       "      <td>26.871765</td>\n",
       "      <td>92.943571</td>\n",
       "      <td>56.114160</td>\n",
       "      <td>128.786312</td>\n",
       "      <td>63.096535</td>\n",
       "    </tr>\n",
       "  </tbody>\n",
       "</table>\n",
       "<p>7561 rows × 500 columns</p>\n",
       "</div>"
      ],
      "text/plain": [
       "            0           1          2          3          4          5    \\\n",
       "0      1.000000    1.000000   1.000000   1.000000   1.000000   1.000000   \n",
       "1      1.010833    1.010236   1.009137   0.995570   1.001660   1.001447   \n",
       "2      1.017251    1.005064   1.023598   0.998726   1.000715   1.004421   \n",
       "3      1.030745    1.011473   1.021335   0.995576   1.006074   1.006346   \n",
       "4      1.029460    1.022629   1.029418   0.999838   1.014485   1.006179   \n",
       "...         ...         ...        ...        ...        ...        ...   \n",
       "7556  86.406233  100.337043  45.305508  55.874134  29.576050  37.441543   \n",
       "7557  86.612486  100.111653  45.445249  56.250706  29.449346  37.234444   \n",
       "7558  86.172017   99.829996  45.932862  56.236268  29.372603  36.765949   \n",
       "7559  86.279570   98.874441  45.845883  56.445144  29.459939  36.788332   \n",
       "7560  86.576899   99.195985  45.929266  56.211647  29.512812  36.692111   \n",
       "\n",
       "             6          7          8          9    ...        490        491  \\\n",
       "0       1.000000   1.000000   1.000000   1.000000  ...   1.000000   1.000000   \n",
       "1       0.992634   0.985875   0.991301   1.013214  ...   1.008408   1.005021   \n",
       "2       0.992309   0.995854   0.990621   1.016394  ...   1.014044   1.005272   \n",
       "3       0.993633   0.998766   0.987497   1.010674  ...   1.014731   1.011806   \n",
       "4       1.002598   0.992142   0.979721   1.007357  ...   1.021045   1.007656   \n",
       "...          ...        ...        ...        ...  ...        ...        ...   \n",
       "7556  107.540930  23.510334  33.709476  33.220947  ...  66.744113  35.690113   \n",
       "7557  106.893075  23.616260  33.762186  33.284342  ...  67.123757  35.635918   \n",
       "7558  107.236418  23.816403  33.785434  33.144174  ...  67.151106  35.564207   \n",
       "7559  107.995465  23.853953  33.830534  33.240179  ...  67.197872  35.673309   \n",
       "7560  108.367288  24.035538  33.627929  33.058852  ...  66.992205  35.889221   \n",
       "\n",
       "             492        493        494        495        496        497  \\\n",
       "0       1.000000   1.000000   1.000000   1.000000   1.000000   1.000000   \n",
       "1       0.998196   0.996027   0.994011   1.001739   0.998817   0.998695   \n",
       "2       0.992040   0.995300   0.989600   1.004424   0.996939   0.998282   \n",
       "3       0.990070   0.991593   0.987072   0.991356   1.000110   1.002002   \n",
       "4       0.994227   0.989610   0.992986   0.989995   1.007081   1.011496   \n",
       "...          ...        ...        ...        ...        ...        ...   \n",
       "7556  109.316310  53.451441  83.091737  26.629199  92.362770  55.800378   \n",
       "7557  110.744085  53.034561  82.978436  26.838153  91.971556  55.992638   \n",
       "7558  110.209842  53.018116  82.244898  26.642299  92.656871  56.219308   \n",
       "7559  109.266193  52.661782  81.638270  26.787439  92.269229  56.383809   \n",
       "7560  109.013817  52.587826  81.267040  26.871765  92.943571  56.114160   \n",
       "\n",
       "             498        499  \n",
       "0       1.000000   1.000000  \n",
       "1       1.004666   0.997383  \n",
       "2       1.002803   0.996190  \n",
       "3       1.015170   0.999696  \n",
       "4       1.017999   0.996590  \n",
       "...          ...        ...  \n",
       "7556  130.259485  62.452924  \n",
       "7557  129.844474  62.796163  \n",
       "7558  129.552010  63.156866  \n",
       "7559  128.481167  62.915531  \n",
       "7560  128.786312  63.096535  \n",
       "\n",
       "[7561 rows x 500 columns]"
      ]
     },
     "execution_count": 34,
     "metadata": {},
     "output_type": "execute_result"
    }
   ],
   "source": [
    "# Run the Monte Carlo simulation to forecast 30 years cumulative returns\n",
    "# YOUR CODE HERE\n",
    "MC_thirtyyear.calc_cumulative_return()"
   ]
  },
  {
   "cell_type": "code",
   "execution_count": 35,
   "metadata": {},
   "outputs": [
    {
     "data": {
      "image/png": "[encoded data removed]",
      "text/plain": [
       "<Figure size 432x288 with 1 Axes>"
      ]
     },
     "metadata": {
      "needs_background": "light"
     },
     "output_type": "display_data"
    }
   ],
   "source": [
    "# Visualize the 30-year Monte Carlo simulation by creating an\n",
    "# overlay line plot\n",
    "# YOUR CODE HERE\n",
    "MC_sim_line_plot = MC_thirtyyear.plot_simulation()"
   ]
  },
  {
   "cell_type": "markdown",
   "metadata": {},
   "source": [
    "#### Step 3: Plot the probability distribution of the Monte Carlo simulation."
   ]
  },
  {
   "cell_type": "code",
   "execution_count": 36,
   "metadata": {},
   "outputs": [
    {
     "data": {
      "image/png": "[encoded data removed]",
      "text/plain": [
       "<Figure size 432x288 with 1 Axes>"
      ]
     },
     "metadata": {
      "needs_background": "light"
     },
     "output_type": "display_data"
    }
   ],
   "source": [
    "# Visualize the probability distribution of the 30-year Monte Carlo simulation \n",
    "# by plotting a histogram\n",
    "# YOUR CODE HERE\n",
    "MC_sim_distribution_plot = MC_thirtyyear.plot_distribution()"
   ]
  },
  {
   "cell_type": "markdown",
   "metadata": {},
   "source": [
    "#### Step 4: Generate the summary statistics for the Monte Carlo simulation."
   ]
  },
  {
   "cell_type": "code",
   "execution_count": 37,
   "metadata": {},
   "outputs": [
    {
     "data": {
      "text/plain": [
       "count           500.000000\n",
       "mean             70.371720\n",
       "std              34.496152\n",
       "min              18.320226\n",
       "25%              47.190958\n",
       "50%              64.374737\n",
       "75%              84.436321\n",
       "max             332.643800\n",
       "95% CI Lower     27.526557\n",
       "95% CI Upper    151.535095\n",
       "Name: 7560, dtype: float64"
      ]
     },
     "execution_count": 37,
     "metadata": {},
     "output_type": "execute_result"
    }
   ],
   "source": [
    "# Generate summary statistics from the 30-year Monte Carlo simulation results\n",
    "# Save the results as a variable\n",
    "MC_summary_statistics = MC_thirtyyear.summarize_cumulative_return()\n",
    "\n",
    "\n",
    "# Review the 30-year Monte Carlo summary statistics\n",
    "MC_summary_statistics"
   ]
  },
  {
   "cell_type": "markdown",
   "metadata": {},
   "source": [
    "### Analyze the Retirement Portfolio Forecasts\n",
    "\n",
    "Using the current value of only the stock and bond portion of the member's portfolio and the summary statistics that you generated from the Monte Carlo simulation, answer the following question in your Jupyter notebook:\n",
    "\n",
    "-  What are the lower and upper bounds for the expected value of the portfolio with a 95% confidence interval?\n"
   ]
  },
  {
   "cell_type": "code",
   "execution_count": 38,
   "metadata": {},
   "outputs": [
    {
     "name": "stdout",
     "output_type": "stream",
     "text": [
      "count           500.000000\n",
      "mean             70.371720\n",
      "std              34.496152\n",
      "min              18.320226\n",
      "25%              47.190958\n",
      "50%              64.374737\n",
      "75%              84.436321\n",
      "max             332.643800\n",
      "95% CI Lower     27.526557\n",
      "95% CI Upper    151.535095\n",
      "Name: 7560, dtype: float64\n"
     ]
    }
   ],
   "source": [
    "# Print the current balance of the stock and bond portion of the members portfolio\n",
    "print(MC_summary_statistics)"
   ]
  },
  {
   "cell_type": "code",
   "execution_count": 39,
   "metadata": {},
   "outputs": [
    {
     "name": "stdout",
     "output_type": "stream",
     "text": [
      "27.526557432678096 151.53509481229105\n"
     ]
    }
   ],
   "source": [
    "# Use the lower and upper `95%` confidence intervals to calculate the range of the possible outcomes for the current stock/bond portfolio\n",
    "ci_lower_thirty_cumulative_return = MC_summary_statistics[8]\n",
    "ci_upper_thirty_cumulative_return = MC_summary_statistics[9]\n",
    "\n",
    "# Print the result of your calculations\n",
    "# YOUR CODE HERE\n",
    "print(ci_lower_thirty_cumulative_return, ci_upper_thirty_cumulative_return)"
   ]
  },
  {
   "cell_type": "markdown",
   "metadata": {},
   "source": [
    "### Forecast Cumulative Returns in 10 Years\n",
    "\n",
    "The CTO of the credit union is impressed with your work on these planning tools but wonders if 30 years is a long time to wait until retirement. So, your next task is to adjust the retirement portfolio and run a new Monte Carlo simulation to find out if the changes will allow members to retire earlier.\n",
    "\n",
    "For this new Monte Carlo simulation, do the following: \n",
    "\n",
    "- Forecast the cumulative returns for 10 years from now. Because of the shortened investment horizon (30 years to 10 years), the portfolio needs to invest more heavily in the riskier asset&mdash;that is, stock&mdash;to help accumulate wealth for retirement. \n",
    "\n",
    "- Adjust the weights of the retirement portfolio so that the composition for the Monte Carlo simulation consists of 20% bonds and 80% stocks. \n",
    "\n",
    "- Run the simulation over 500 samples, and use the same data that the API call to Alpaca generated.\n",
    "\n",
    "- Based on the new Monte Carlo simulation, answer the following questions in your Jupyter notebook:\n",
    "\n",
    "    - Using the current value of only the stock and bond portion of the member's portfolio and the summary statistics that you generated from the new Monte Carlo simulation, what are the lower and upper bounds for the expected value of the portfolio (with the new weights) with a 95% confidence interval?\n",
    "\n",
    "    - Will weighting the portfolio more heavily toward stocks allow the credit union members to retire after only 10 years?\n"
   ]
  },
  {
   "cell_type": "code",
   "execution_count": 42,
   "metadata": {},
   "outputs": [
    {
     "data": {
      "text/plain": [
       "<MCForecastTools.MCSimulation at 0x7fe7d5c1de50>"
      ]
     },
     "execution_count": 42,
     "metadata": {},
     "output_type": "execute_result"
    }
   ],
   "source": [
    "# Configure a Monte Carlo simulation to forecast 10 years cumulative returns\n",
    "# The weights should be split 20% to AGG and 80% to SPY.\n",
    "# Run 500 samples.\n",
    "# YOUR CODE HERE\n",
    "MC_tenyear = MCSimulation(\n",
    "    portfolio_data = prices_df,\n",
    "    weights = [.20, .80],\n",
    "    num_simulation = 500,\n",
    "    num_trading_days = 252*10\n",
    ")\n",
    "# Review the simulation input data\n",
    "# YOUR CODE HERE\n",
    "MC_tenyear"
   ]
  },
  {
   "cell_type": "code",
   "execution_count": 43,
   "metadata": {},
   "outputs": [
    {
     "name": "stdout",
     "output_type": "stream",
     "text": [
      "Running Monte Carlo simulation number 0.\n",
      "Running Monte Carlo simulation number 10.\n",
      "Running Monte Carlo simulation number 20.\n",
      "Running Monte Carlo simulation number 30.\n",
      "Running Monte Carlo simulation number 40.\n",
      "Running Monte Carlo simulation number 50.\n",
      "Running Monte Carlo simulation number 60.\n",
      "Running Monte Carlo simulation number 70.\n",
      "Running Monte Carlo simulation number 80.\n",
      "Running Monte Carlo simulation number 90.\n",
      "Running Monte Carlo simulation number 100.\n",
      "Running Monte Carlo simulation number 110.\n",
      "Running Monte Carlo simulation number 120.\n",
      "Running Monte Carlo simulation number 130.\n",
      "Running Monte Carlo simulation number 140.\n",
      "Running Monte Carlo simulation number 150.\n",
      "Running Monte Carlo simulation number 160.\n",
      "Running Monte Carlo simulation number 170.\n",
      "Running Monte Carlo simulation number 180.\n",
      "Running Monte Carlo simulation number 190.\n",
      "Running Monte Carlo simulation number 200.\n",
      "Running Monte Carlo simulation number 210.\n",
      "Running Monte Carlo simulation number 220.\n",
      "Running Monte Carlo simulation number 230.\n",
      "Running Monte Carlo simulation number 240.\n",
      "Running Monte Carlo simulation number 250.\n",
      "Running Monte Carlo simulation number 260.\n",
      "Running Monte Carlo simulation number 270.\n",
      "Running Monte Carlo simulation number 280.\n",
      "Running Monte Carlo simulation number 290.\n",
      "Running Monte Carlo simulation number 300.\n",
      "Running Monte Carlo simulation number 310.\n",
      "Running Monte Carlo simulation number 320.\n",
      "Running Monte Carlo simulation number 330.\n",
      "Running Monte Carlo simulation number 340.\n",
      "Running Monte Carlo simulation number 350.\n",
      "Running Monte Carlo simulation number 360.\n",
      "Running Monte Carlo simulation number 370.\n",
      "Running Monte Carlo simulation number 380.\n",
      "Running Monte Carlo simulation number 390.\n",
      "Running Monte Carlo simulation number 400.\n",
      "Running Monte Carlo simulation number 410.\n",
      "Running Monte Carlo simulation number 420.\n",
      "Running Monte Carlo simulation number 430.\n",
      "Running Monte Carlo simulation number 440.\n",
      "Running Monte Carlo simulation number 450.\n",
      "Running Monte Carlo simulation number 460.\n",
      "Running Monte Carlo simulation number 470.\n",
      "Running Monte Carlo simulation number 480.\n",
      "Running Monte Carlo simulation number 490.\n"
     ]
    },
    {
     "data": {
      "text/html": [
       "<div>\n",
       "<style scoped>\n",
       "    .dataframe tbody tr th:only-of-type {\n",
       "        vertical-align: middle;\n",
       "    }\n",
       "\n",
       "    .dataframe tbody tr th {\n",
       "        vertical-align: top;\n",
       "    }\n",
       "\n",
       "    .dataframe thead th {\n",
       "        text-align: right;\n",
       "    }\n",
       "</style>\n",
       "<table border=\"1\" class=\"dataframe\">\n",
       "  <thead>\n",
       "    <tr style=\"text-align: right;\">\n",
       "      <th></th>\n",
       "      <th>0</th>\n",
       "      <th>1</th>\n",
       "      <th>2</th>\n",
       "      <th>3</th>\n",
       "      <th>4</th>\n",
       "      <th>5</th>\n",
       "      <th>6</th>\n",
       "      <th>7</th>\n",
       "      <th>8</th>\n",
       "      <th>9</th>\n",
       "      <th>...</th>\n",
       "      <th>490</th>\n",
       "      <th>491</th>\n",
       "      <th>492</th>\n",
       "      <th>493</th>\n",
       "      <th>494</th>\n",
       "      <th>495</th>\n",
       "      <th>496</th>\n",
       "      <th>497</th>\n",
       "      <th>498</th>\n",
       "      <th>499</th>\n",
       "    </tr>\n",
       "  </thead>\n",
       "  <tbody>\n",
       "    <tr>\n",
       "      <th>0</th>\n",
       "      <td>1.000000</td>\n",
       "      <td>1.000000</td>\n",
       "      <td>1.000000</td>\n",
       "      <td>1.000000</td>\n",
       "      <td>1.000000</td>\n",
       "      <td>1.000000</td>\n",
       "      <td>1.000000</td>\n",
       "      <td>1.000000</td>\n",
       "      <td>1.000000</td>\n",
       "      <td>1.000000</td>\n",
       "      <td>...</td>\n",
       "      <td>1.000000</td>\n",
       "      <td>1.000000</td>\n",
       "      <td>1.000000</td>\n",
       "      <td>1.000000</td>\n",
       "      <td>1.000000</td>\n",
       "      <td>1.000000</td>\n",
       "      <td>1.000000</td>\n",
       "      <td>1.000000</td>\n",
       "      <td>1.000000</td>\n",
       "      <td>1.000000</td>\n",
       "    </tr>\n",
       "    <tr>\n",
       "      <th>1</th>\n",
       "      <td>1.006276</td>\n",
       "      <td>1.001513</td>\n",
       "      <td>0.999348</td>\n",
       "      <td>1.005761</td>\n",
       "      <td>0.982362</td>\n",
       "      <td>0.991944</td>\n",
       "      <td>1.012572</td>\n",
       "      <td>1.003900</td>\n",
       "      <td>1.000950</td>\n",
       "      <td>0.984918</td>\n",
       "      <td>...</td>\n",
       "      <td>1.008873</td>\n",
       "      <td>1.019075</td>\n",
       "      <td>1.002747</td>\n",
       "      <td>0.996264</td>\n",
       "      <td>1.012201</td>\n",
       "      <td>0.994596</td>\n",
       "      <td>0.997887</td>\n",
       "      <td>1.007107</td>\n",
       "      <td>0.989960</td>\n",
       "      <td>1.001953</td>\n",
       "    </tr>\n",
       "    <tr>\n",
       "      <th>2</th>\n",
       "      <td>1.003442</td>\n",
       "      <td>1.000269</td>\n",
       "      <td>0.992427</td>\n",
       "      <td>1.000735</td>\n",
       "      <td>0.992089</td>\n",
       "      <td>0.999350</td>\n",
       "      <td>1.012012</td>\n",
       "      <td>1.001856</td>\n",
       "      <td>1.016710</td>\n",
       "      <td>0.997540</td>\n",
       "      <td>...</td>\n",
       "      <td>1.005500</td>\n",
       "      <td>1.028518</td>\n",
       "      <td>1.010337</td>\n",
       "      <td>0.987397</td>\n",
       "      <td>1.009119</td>\n",
       "      <td>1.000459</td>\n",
       "      <td>0.979935</td>\n",
       "      <td>1.004796</td>\n",
       "      <td>0.999193</td>\n",
       "      <td>1.021613</td>\n",
       "    </tr>\n",
       "    <tr>\n",
       "      <th>3</th>\n",
       "      <td>0.995575</td>\n",
       "      <td>1.012322</td>\n",
       "      <td>0.997779</td>\n",
       "      <td>0.999031</td>\n",
       "      <td>0.983150</td>\n",
       "      <td>0.987259</td>\n",
       "      <td>1.008864</td>\n",
       "      <td>0.999922</td>\n",
       "      <td>1.025051</td>\n",
       "      <td>1.002364</td>\n",
       "      <td>...</td>\n",
       "      <td>1.000044</td>\n",
       "      <td>1.029600</td>\n",
       "      <td>0.997203</td>\n",
       "      <td>0.986864</td>\n",
       "      <td>1.021235</td>\n",
       "      <td>0.994949</td>\n",
       "      <td>0.985999</td>\n",
       "      <td>1.009670</td>\n",
       "      <td>0.995253</td>\n",
       "      <td>1.033967</td>\n",
       "    </tr>\n",
       "    <tr>\n",
       "      <th>4</th>\n",
       "      <td>0.999675</td>\n",
       "      <td>1.016595</td>\n",
       "      <td>1.005757</td>\n",
       "      <td>0.998524</td>\n",
       "      <td>0.985032</td>\n",
       "      <td>0.997361</td>\n",
       "      <td>1.007612</td>\n",
       "      <td>1.005098</td>\n",
       "      <td>1.021783</td>\n",
       "      <td>1.007345</td>\n",
       "      <td>...</td>\n",
       "      <td>0.997964</td>\n",
       "      <td>1.038810</td>\n",
       "      <td>1.006714</td>\n",
       "      <td>0.997113</td>\n",
       "      <td>1.020995</td>\n",
       "      <td>0.998468</td>\n",
       "      <td>0.993646</td>\n",
       "      <td>1.012845</td>\n",
       "      <td>0.996441</td>\n",
       "      <td>1.056196</td>\n",
       "    </tr>\n",
       "    <tr>\n",
       "      <th>...</th>\n",
       "      <td>...</td>\n",
       "      <td>...</td>\n",
       "      <td>...</td>\n",
       "      <td>...</td>\n",
       "      <td>...</td>\n",
       "      <td>...</td>\n",
       "      <td>...</td>\n",
       "      <td>...</td>\n",
       "      <td>...</td>\n",
       "      <td>...</td>\n",
       "      <td>...</td>\n",
       "      <td>...</td>\n",
       "      <td>...</td>\n",
       "      <td>...</td>\n",
       "      <td>...</td>\n",
       "      <td>...</td>\n",
       "      <td>...</td>\n",
       "      <td>...</td>\n",
       "      <td>...</td>\n",
       "      <td>...</td>\n",
       "      <td>...</td>\n",
       "    </tr>\n",
       "    <tr>\n",
       "      <th>2516</th>\n",
       "      <td>13.613473</td>\n",
       "      <td>17.987399</td>\n",
       "      <td>10.649284</td>\n",
       "      <td>4.519059</td>\n",
       "      <td>8.376740</td>\n",
       "      <td>13.445900</td>\n",
       "      <td>5.745823</td>\n",
       "      <td>11.582079</td>\n",
       "      <td>15.480976</td>\n",
       "      <td>5.345559</td>\n",
       "      <td>...</td>\n",
       "      <td>3.801254</td>\n",
       "      <td>16.237471</td>\n",
       "      <td>7.089067</td>\n",
       "      <td>7.130169</td>\n",
       "      <td>8.223952</td>\n",
       "      <td>15.833395</td>\n",
       "      <td>7.515869</td>\n",
       "      <td>7.353123</td>\n",
       "      <td>13.441619</td>\n",
       "      <td>11.796871</td>\n",
       "    </tr>\n",
       "    <tr>\n",
       "      <th>2517</th>\n",
       "      <td>13.641885</td>\n",
       "      <td>18.185601</td>\n",
       "      <td>10.719603</td>\n",
       "      <td>4.561533</td>\n",
       "      <td>8.342168</td>\n",
       "      <td>13.338505</td>\n",
       "      <td>5.769436</td>\n",
       "      <td>11.694706</td>\n",
       "      <td>15.367739</td>\n",
       "      <td>5.297540</td>\n",
       "      <td>...</td>\n",
       "      <td>3.809802</td>\n",
       "      <td>16.304551</td>\n",
       "      <td>7.077021</td>\n",
       "      <td>7.196998</td>\n",
       "      <td>8.134258</td>\n",
       "      <td>15.830765</td>\n",
       "      <td>7.478638</td>\n",
       "      <td>7.400020</td>\n",
       "      <td>13.419286</td>\n",
       "      <td>11.940601</td>\n",
       "    </tr>\n",
       "    <tr>\n",
       "      <th>2518</th>\n",
       "      <td>13.607050</td>\n",
       "      <td>18.167247</td>\n",
       "      <td>10.633193</td>\n",
       "      <td>4.555191</td>\n",
       "      <td>8.270366</td>\n",
       "      <td>13.285121</td>\n",
       "      <td>5.779410</td>\n",
       "      <td>11.709199</td>\n",
       "      <td>15.399408</td>\n",
       "      <td>5.300523</td>\n",
       "      <td>...</td>\n",
       "      <td>3.806806</td>\n",
       "      <td>16.071746</td>\n",
       "      <td>7.073759</td>\n",
       "      <td>7.267605</td>\n",
       "      <td>8.071863</td>\n",
       "      <td>15.850708</td>\n",
       "      <td>7.476178</td>\n",
       "      <td>7.393954</td>\n",
       "      <td>13.330835</td>\n",
       "      <td>11.961786</td>\n",
       "    </tr>\n",
       "    <tr>\n",
       "      <th>2519</th>\n",
       "      <td>13.766405</td>\n",
       "      <td>18.086403</td>\n",
       "      <td>10.619796</td>\n",
       "      <td>4.588591</td>\n",
       "      <td>8.333678</td>\n",
       "      <td>13.363928</td>\n",
       "      <td>5.775355</td>\n",
       "      <td>11.619961</td>\n",
       "      <td>15.457593</td>\n",
       "      <td>5.347326</td>\n",
       "      <td>...</td>\n",
       "      <td>3.820671</td>\n",
       "      <td>15.868338</td>\n",
       "      <td>7.191152</td>\n",
       "      <td>7.317608</td>\n",
       "      <td>8.068620</td>\n",
       "      <td>15.871618</td>\n",
       "      <td>7.427278</td>\n",
       "      <td>7.333235</td>\n",
       "      <td>13.240343</td>\n",
       "      <td>11.942267</td>\n",
       "    </tr>\n",
       "    <tr>\n",
       "      <th>2520</th>\n",
       "      <td>13.826354</td>\n",
       "      <td>18.022029</td>\n",
       "      <td>10.653888</td>\n",
       "      <td>4.608506</td>\n",
       "      <td>8.389624</td>\n",
       "      <td>13.383228</td>\n",
       "      <td>5.744681</td>\n",
       "      <td>11.684622</td>\n",
       "      <td>15.522969</td>\n",
       "      <td>5.304478</td>\n",
       "      <td>...</td>\n",
       "      <td>3.817656</td>\n",
       "      <td>15.848573</td>\n",
       "      <td>7.229436</td>\n",
       "      <td>7.318491</td>\n",
       "      <td>8.061508</td>\n",
       "      <td>15.968479</td>\n",
       "      <td>7.359617</td>\n",
       "      <td>7.363305</td>\n",
       "      <td>13.130025</td>\n",
       "      <td>11.959549</td>\n",
       "    </tr>\n",
       "  </tbody>\n",
       "</table>\n",
       "<p>2521 rows × 500 columns</p>\n",
       "</div>"
      ],
      "text/plain": [
       "            0          1          2         3         4          5    \\\n",
       "0      1.000000   1.000000   1.000000  1.000000  1.000000   1.000000   \n",
       "1      1.006276   1.001513   0.999348  1.005761  0.982362   0.991944   \n",
       "2      1.003442   1.000269   0.992427  1.000735  0.992089   0.999350   \n",
       "3      0.995575   1.012322   0.997779  0.999031  0.983150   0.987259   \n",
       "4      0.999675   1.016595   1.005757  0.998524  0.985032   0.997361   \n",
       "...         ...        ...        ...       ...       ...        ...   \n",
       "2516  13.613473  17.987399  10.649284  4.519059  8.376740  13.445900   \n",
       "2517  13.641885  18.185601  10.719603  4.561533  8.342168  13.338505   \n",
       "2518  13.607050  18.167247  10.633193  4.555191  8.270366  13.285121   \n",
       "2519  13.766405  18.086403  10.619796  4.588591  8.333678  13.363928   \n",
       "2520  13.826354  18.022029  10.653888  4.608506  8.389624  13.383228   \n",
       "\n",
       "           6          7          8         9    ...       490        491  \\\n",
       "0     1.000000   1.000000   1.000000  1.000000  ...  1.000000   1.000000   \n",
       "1     1.012572   1.003900   1.000950  0.984918  ...  1.008873   1.019075   \n",
       "2     1.012012   1.001856   1.016710  0.997540  ...  1.005500   1.028518   \n",
       "3     1.008864   0.999922   1.025051  1.002364  ...  1.000044   1.029600   \n",
       "4     1.007612   1.005098   1.021783  1.007345  ...  0.997964   1.038810   \n",
       "...        ...        ...        ...       ...  ...       ...        ...   \n",
       "2516  5.745823  11.582079  15.480976  5.345559  ...  3.801254  16.237471   \n",
       "2517  5.769436  11.694706  15.367739  5.297540  ...  3.809802  16.304551   \n",
       "2518  5.779410  11.709199  15.399408  5.300523  ...  3.806806  16.071746   \n",
       "2519  5.775355  11.619961  15.457593  5.347326  ...  3.820671  15.868338   \n",
       "2520  5.744681  11.684622  15.522969  5.304478  ...  3.817656  15.848573   \n",
       "\n",
       "           492       493       494        495       496       497        498  \\\n",
       "0     1.000000  1.000000  1.000000   1.000000  1.000000  1.000000   1.000000   \n",
       "1     1.002747  0.996264  1.012201   0.994596  0.997887  1.007107   0.989960   \n",
       "2     1.010337  0.987397  1.009119   1.000459  0.979935  1.004796   0.999193   \n",
       "3     0.997203  0.986864  1.021235   0.994949  0.985999  1.009670   0.995253   \n",
       "4     1.006714  0.997113  1.020995   0.998468  0.993646  1.012845   0.996441   \n",
       "...        ...       ...       ...        ...       ...       ...        ...   \n",
       "2516  7.089067  7.130169  8.223952  15.833395  7.515869  7.353123  13.441619   \n",
       "2517  7.077021  7.196998  8.134258  15.830765  7.478638  7.400020  13.419286   \n",
       "2518  7.073759  7.267605  8.071863  15.850708  7.476178  7.393954  13.330835   \n",
       "2519  7.191152  7.317608  8.068620  15.871618  7.427278  7.333235  13.240343   \n",
       "2520  7.229436  7.318491  8.061508  15.968479  7.359617  7.363305  13.130025   \n",
       "\n",
       "            499  \n",
       "0      1.000000  \n",
       "1      1.001953  \n",
       "2      1.021613  \n",
       "3      1.033967  \n",
       "4      1.056196  \n",
       "...         ...  \n",
       "2516  11.796871  \n",
       "2517  11.940601  \n",
       "2518  11.961786  \n",
       "2519  11.942267  \n",
       "2520  11.959549  \n",
       "\n",
       "[2521 rows x 500 columns]"
      ]
     },
     "execution_count": 43,
     "metadata": {},
     "output_type": "execute_result"
    }
   ],
   "source": [
    "# Run the Monte Carlo simulation to forecast 10 years cumulative returns\n",
    "# YOUR CODE HERE\n",
    "MC_tenyear.calc_cumulative_return()"
   ]
  },
  {
   "cell_type": "code",
   "execution_count": 44,
   "metadata": {},
   "outputs": [
    {
     "data": {
      "image/png": "[encoded data removed]",
      "text/plain": [
       "<Figure size 432x288 with 1 Axes>"
      ]
     },
     "metadata": {
      "needs_background": "light"
     },
     "output_type": "display_data"
    }
   ],
   "source": [
    "# Visualize the 10-year Monte Carlo simulation by creating an\n",
    "# overlay line plot\n",
    "# YOUR CODE HERE\n",
    "MC_sim_line_plot = MC_tenyear.plot_simulation()"
   ]
  },
  {
   "cell_type": "code",
   "execution_count": 45,
   "metadata": {},
   "outputs": [
    {
     "data": {
      "image/png": "[encoded data removed]",
      "text/plain": [
       "<Figure size 432x288 with 1 Axes>"
      ]
     },
     "metadata": {
      "needs_background": "light"
     },
     "output_type": "display_data"
    }
   ],
   "source": [
    "# Visualize the probability distribution of the 10-year Monte Carlo simulation \n",
    "# by plotting a histogram\n",
    "# YOUR CODE HERE\n",
    "MC_sim_distribution_plot = MC_tenyear.plot_distribution()"
   ]
  },
  {
   "cell_type": "code",
   "execution_count": 46,
   "metadata": {},
   "outputs": [
    {
     "data": {
      "text/plain": [
       "count           500.000000\n",
       "mean              8.908626\n",
       "std               3.231847\n",
       "min               2.861133\n",
       "25%               6.614264\n",
       "50%               8.347795\n",
       "75%              10.816526\n",
       "max              26.296482\n",
       "95% CI Lower      4.023055\n",
       "95% CI Upper     16.631773\n",
       "Name: 2520, dtype: float64"
      ]
     },
     "execution_count": 46,
     "metadata": {},
     "output_type": "execute_result"
    }
   ],
   "source": [
    "# Generate summary statistics from the 10-year Monte Carlo simulation results\n",
    "# Save the results as a variable\n",
    "# YOUR CODE HERE\n",
    "MC_summary_statistics = MC_tenyear.summarize_cumulative_return()\n",
    "\n",
    "# Review the 10-year Monte Carlo summary statistics\n",
    "MC_summary_statistics"
   ]
  },
  {
   "cell_type": "markdown",
   "metadata": {},
   "source": [
    "### Answer the following questions:"
   ]
  },
  {
   "cell_type": "markdown",
   "metadata": {},
   "source": [
    "#### Question: Using the current value of only the stock and bond portion of the member's portfolio and the summary statistics that you generated from the new Monte Carlo simulation, what are the lower and upper bounds for the expected value of the portfolio (with the new weights) with a 95% confidence interval?"
   ]
  },
  {
   "cell_type": "code",
   "execution_count": 47,
   "metadata": {},
   "outputs": [
    {
     "name": "stdout",
     "output_type": "stream",
     "text": [
      "count           500.000000\n",
      "mean              8.908626\n",
      "std               3.231847\n",
      "min               2.861133\n",
      "25%               6.614264\n",
      "50%               8.347795\n",
      "75%              10.816526\n",
      "max              26.296482\n",
      "95% CI Lower      4.023055\n",
      "95% CI Upper     16.631773\n",
      "Name: 2520, dtype: float64\n"
     ]
    }
   ],
   "source": [
    "# Print the current balance of the stock and bond portion of the members portfolio\n",
    "# YOUR CODE HERE\n",
    "print(MC_summary_statistics)"
   ]
  },
  {
   "cell_type": "code",
   "execution_count": 53,
   "metadata": {},
   "outputs": [
    {
     "name": "stdout",
     "output_type": "stream",
     "text": [
      "4.023055250338707 16.631773254056778\n"
     ]
    }
   ],
   "source": [
    "# Use the lower and upper `95%` confidence intervals to calculate the range of the possible outcomes for the current stock/bond portfolio\n",
    "ci_lower_ten_cumulative_return = MC_summary_statistics[8]\n",
    "ci_upper_ten_cumulative_return = MC_summary_statistics[9]\n",
    "\n",
    "# Print the result of your calculations\n",
    "# YOUR CODE HERE\n",
    "print(ci_lower_ten_cumulative_return, ci_upper_ten_cumulative_return)"
   ]
  },
  {
   "cell_type": "markdown",
   "metadata": {},
   "source": [
    "#### Question: Will weighting the portfolio more heavily to stocks allow the credit union members to retire after only 10 years?"
   ]
  },
  {
   "cell_type": "raw",
   "metadata": {},
   "source": [
    "**Answer** NO, you cannot retire from this investment portfolio in stocks and bonds. There's a 95% chance that you\"ll either receive $4,000 after 10 years or up to $16,000 after 10 years, and this money is not sufficient to retire on."
   ]
  },
  {
   "cell_type": "code",
   "execution_count": null,
   "metadata": {},
   "outputs": [],
   "source": []
  }
 ],
 "metadata": {
  "kernelspec": {
   "display_name": "Python(dev)",
   "language": "python",
   "name": "dev"
  },
  "language_info": {
   "codemirror_mode": {
    "name": "ipython",
    "version": 3
   },
   "file_extension": ".py",
   "mimetype": "text/x-python",
   "name": "python",
   "nbconvert_exporter": "python",
   "pygments_lexer": "ipython3",
   "version": "3.7.9"
  }
 },
 "nbformat": 4,
 "nbformat_minor": 4
}
